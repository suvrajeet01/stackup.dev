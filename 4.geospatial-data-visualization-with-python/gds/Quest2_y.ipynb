{
 "cells": [
  {
   "cell_type": "code",
   "execution_count": 1,
   "id": "af638a74",
   "metadata": {},
   "outputs": [],
   "source": [
    "# Import relevant libraries \n",
    "\n",
    "import pandas as pd\n",
    "import os\n",
    "os.environ['USE_PYGEOS'] = '0'\n",
    "import geopandas as gpd\n",
    "import pysal as ps\n",
    "import libpysal\n",
    "import pyproj\n",
    "import geopy\n",
    "import cartopy as cp\n",
    "import geojson\n",
    "import osmnx as ox\n",
    "import matplotlib.pyplot as plt\n",
    "import sklearn\n",
    "import seaborn as sns\n",
    "import bokeh\n",
    "import folium"
   ]
  },
  {
   "cell_type": "markdown",
   "id": "6c69a479",
   "metadata": {},
   "source": [
    "# Quest 2: Exploring and manipulating geospatial data with geopandas \n",
    "\n",
    "We will cover:\n",
    "   1. I/O operations \n",
    "   2. Getting data from OpenStreetMap (with _OSMnx_)\n",
    "   3. Reprojecting geospatial data\n",
    "   4. Basic geoprocessing tools from geopandas (Clip, Spatial join)\n",
    "    \n",
    "Note:\n",
    "- All data is taken from the Geoda Center: https://geodacenter.github.io/. Refer to the main quest page on the StackUp platform for more details.\n",
    "- Parts of the code marked with the _[quiz]_ tag provide output necessary to answer quiz questions\n"
   ]
  },
  {
   "cell_type": "markdown",
   "id": "b9475c62",
   "metadata": {},
   "source": [
    "### 1. Reading/Writing spatial data from/to file\n",
    "Source: https://geopandas.org/en/stable/docs/user_guide/io.html\n",
    "\n",
    "\n",
    "__Reading__: geopandas can read almost any vector-based spatial data format (including ESRI shapefile, GeoJSON files and more) and return a GeoDataFrame (gdf) object using the command `geopandas.read_file()`\n",
    "\n",
    "\n",
    "__Writing__: GeoDataFrames can be exported to many different standard formats using `geopandas.GeoDataFrame.to_file()`"
   ]
  },
  {
   "cell_type": "markdown",
   "id": "57e2c662",
   "metadata": {},
   "source": [
    "#### Read dataset containing health and socioeconomics statistics in Chicago (ComArea_ACS14_f.shp) from your working directory:\n",
    "`your_var_name = gpd.read_file(\"your filepath\")`"
   ]
  },
  {
   "cell_type": "code",
   "execution_count": 2,
   "id": "66bd8324",
   "metadata": {},
   "outputs": [],
   "source": [
    "lang=gpd.read_file(\"chicago_data/comarea/ComArea_ACS14_f.shp\")"
   ]
  },
  {
   "cell_type": "markdown",
   "id": "44ebcbe0",
   "metadata": {},
   "source": [
    "#### Inspect your gdf:\n",
    "`your_var_name.head()`\n",
    "\n",
    "\n",
    "Scroll through the columns in your gdf. The last column contains the geometry attribute."
   ]
  },
  {
   "cell_type": "code",
   "execution_count": 3,
   "id": "294687e6",
   "metadata": {},
   "outputs": [
    {
     "data": {
      "text/html": [
       "<div>\n",
       "<style scoped>\n",
       "    .dataframe tbody tr th:only-of-type {\n",
       "        vertical-align: middle;\n",
       "    }\n",
       "\n",
       "    .dataframe tbody tr th {\n",
       "        vertical-align: top;\n",
       "    }\n",
       "\n",
       "    .dataframe thead th {\n",
       "        text-align: right;\n",
       "    }\n",
       "</style>\n",
       "<table border=\"1\" class=\"dataframe\">\n",
       "  <thead>\n",
       "    <tr style=\"text-align: right;\">\n",
       "      <th></th>\n",
       "      <th>ComAreaID</th>\n",
       "      <th>community</th>\n",
       "      <th>TRACTCnt</th>\n",
       "      <th>shape_area</th>\n",
       "      <th>shape_len</th>\n",
       "      <th>Pop2012</th>\n",
       "      <th>Pop2014</th>\n",
       "      <th>PopChng</th>\n",
       "      <th>PopM</th>\n",
       "      <th>PopMP</th>\n",
       "      <th>...</th>\n",
       "      <th>InfntMR</th>\n",
       "      <th>LungCancer</th>\n",
       "      <th>ProstateC</th>\n",
       "      <th>Stroke</th>\n",
       "      <th>ChlBLLS</th>\n",
       "      <th>ChlLeadP</th>\n",
       "      <th>GonorrF</th>\n",
       "      <th>GonorrM</th>\n",
       "      <th>Tuberc</th>\n",
       "      <th>geometry</th>\n",
       "    </tr>\n",
       "  </thead>\n",
       "  <tbody>\n",
       "    <tr>\n",
       "      <th>0</th>\n",
       "      <td>35</td>\n",
       "      <td>DOUGLAS</td>\n",
       "      <td>10</td>\n",
       "      <td>4.600462e+07</td>\n",
       "      <td>31027.054510</td>\n",
       "      <td>18238</td>\n",
       "      <td>19430</td>\n",
       "      <td>3.1645</td>\n",
       "      <td>8294</td>\n",
       "      <td>42.6866</td>\n",
       "      <td>...</td>\n",
       "      <td>13.4</td>\n",
       "      <td>74.5</td>\n",
       "      <td>85.5</td>\n",
       "      <td>62.1</td>\n",
       "      <td>482.2</td>\n",
       "      <td>0</td>\n",
       "      <td>1063.3</td>\n",
       "      <td>727.4</td>\n",
       "      <td>4.2</td>\n",
       "      <td>POLYGON ((-87.60914 41.84469, -87.60915 41.844...</td>\n",
       "    </tr>\n",
       "    <tr>\n",
       "      <th>1</th>\n",
       "      <td>36</td>\n",
       "      <td>OAKLAND</td>\n",
       "      <td>3</td>\n",
       "      <td>1.691396e+07</td>\n",
       "      <td>19565.506153</td>\n",
       "      <td>5918</td>\n",
       "      <td>6473</td>\n",
       "      <td>4.4791</td>\n",
       "      <td>2499</td>\n",
       "      <td>38.6065</td>\n",
       "      <td>...</td>\n",
       "      <td>8.2</td>\n",
       "      <td>54.5</td>\n",
       "      <td>54.2</td>\n",
       "      <td>43.7</td>\n",
       "      <td>435.4</td>\n",
       "      <td>0</td>\n",
       "      <td>1655.4</td>\n",
       "      <td>1629.3</td>\n",
       "      <td>6.7</td>\n",
       "      <td>POLYGON ((-87.59215 41.81693, -87.59231 41.816...</td>\n",
       "    </tr>\n",
       "    <tr>\n",
       "      <th>2</th>\n",
       "      <td>37</td>\n",
       "      <td>FULLER PARK</td>\n",
       "      <td>2</td>\n",
       "      <td>1.991670e+07</td>\n",
       "      <td>25339.089750</td>\n",
       "      <td>2876</td>\n",
       "      <td>2543</td>\n",
       "      <td>-6.1450</td>\n",
       "      <td>1218</td>\n",
       "      <td>47.8962</td>\n",
       "      <td>...</td>\n",
       "      <td>22.6</td>\n",
       "      <td>89.6</td>\n",
       "      <td>70.5</td>\n",
       "      <td>82.4</td>\n",
       "      <td>489.9</td>\n",
       "      <td>2</td>\n",
       "      <td>1061.9</td>\n",
       "      <td>1556.4</td>\n",
       "      <td>0.0</td>\n",
       "      <td>POLYGON ((-87.62880 41.80189, -87.62879 41.801...</td>\n",
       "    </tr>\n",
       "    <tr>\n",
       "      <th>3</th>\n",
       "      <td>38</td>\n",
       "      <td>GRAND BOULEVARD</td>\n",
       "      <td>14</td>\n",
       "      <td>4.849250e+07</td>\n",
       "      <td>28196.837157</td>\n",
       "      <td>21929</td>\n",
       "      <td>22531</td>\n",
       "      <td>1.3540</td>\n",
       "      <td>9681</td>\n",
       "      <td>42.9675</td>\n",
       "      <td>...</td>\n",
       "      <td>12.1</td>\n",
       "      <td>63.8</td>\n",
       "      <td>39.0</td>\n",
       "      <td>46.7</td>\n",
       "      <td>590.4</td>\n",
       "      <td>1</td>\n",
       "      <td>1454.6</td>\n",
       "      <td>1680.0</td>\n",
       "      <td>13.2</td>\n",
       "      <td>POLYGON ((-87.60671 41.81681, -87.60670 41.816...</td>\n",
       "    </tr>\n",
       "    <tr>\n",
       "      <th>4</th>\n",
       "      <td>39</td>\n",
       "      <td>KENWOOD</td>\n",
       "      <td>7</td>\n",
       "      <td>2.907174e+07</td>\n",
       "      <td>23325.167906</td>\n",
       "      <td>17841</td>\n",
       "      <td>18217</td>\n",
       "      <td>1.0428</td>\n",
       "      <td>8543</td>\n",
       "      <td>46.8958</td>\n",
       "      <td>...</td>\n",
       "      <td>8.9</td>\n",
       "      <td>49.1</td>\n",
       "      <td>46.2</td>\n",
       "      <td>31.5</td>\n",
       "      <td>397.9</td>\n",
       "      <td>0</td>\n",
       "      <td>610.2</td>\n",
       "      <td>549.1</td>\n",
       "      <td>0.0</td>\n",
       "      <td>POLYGON ((-87.59215 41.81693, -87.59215 41.816...</td>\n",
       "    </tr>\n",
       "  </tbody>\n",
       "</table>\n",
       "<p>5 rows × 87 columns</p>\n",
       "</div>"
      ],
      "text/plain": [
       "   ComAreaID        community  TRACTCnt    shape_area     shape_len  Pop2012  \\\n",
       "0         35          DOUGLAS        10  4.600462e+07  31027.054510    18238   \n",
       "1         36          OAKLAND         3  1.691396e+07  19565.506153     5918   \n",
       "2         37      FULLER PARK         2  1.991670e+07  25339.089750     2876   \n",
       "3         38  GRAND BOULEVARD        14  4.849250e+07  28196.837157    21929   \n",
       "4         39          KENWOOD         7  2.907174e+07  23325.167906    17841   \n",
       "\n",
       "   Pop2014  PopChng  PopM    PopMP  ...  InfntMR  LungCancer  ProstateC  \\\n",
       "0    19430   3.1645  8294  42.6866  ...     13.4        74.5       85.5   \n",
       "1     6473   4.4791  2499  38.6065  ...      8.2        54.5       54.2   \n",
       "2     2543  -6.1450  1218  47.8962  ...     22.6        89.6       70.5   \n",
       "3    22531   1.3540  9681  42.9675  ...     12.1        63.8       39.0   \n",
       "4    18217   1.0428  8543  46.8958  ...      8.9        49.1       46.2   \n",
       "\n",
       "   Stroke  ChlBLLS  ChlLeadP  GonorrF  GonorrM  Tuberc  \\\n",
       "0    62.1    482.2         0   1063.3    727.4     4.2   \n",
       "1    43.7    435.4         0   1655.4   1629.3     6.7   \n",
       "2    82.4    489.9         2   1061.9   1556.4     0.0   \n",
       "3    46.7    590.4         1   1454.6   1680.0    13.2   \n",
       "4    31.5    397.9         0    610.2    549.1     0.0   \n",
       "\n",
       "                                            geometry  \n",
       "0  POLYGON ((-87.60914 41.84469, -87.60915 41.844...  \n",
       "1  POLYGON ((-87.59215 41.81693, -87.59231 41.816...  \n",
       "2  POLYGON ((-87.62880 41.80189, -87.62879 41.801...  \n",
       "3  POLYGON ((-87.60671 41.81681, -87.60670 41.816...  \n",
       "4  POLYGON ((-87.59215 41.81693, -87.59215 41.816...  \n",
       "\n",
       "[5 rows x 87 columns]"
      ]
     },
     "execution_count": 3,
     "metadata": {},
     "output_type": "execute_result"
    }
   ],
   "source": [
    "lang.head()"
   ]
  },
  {
   "cell_type": "markdown",
   "id": "0f2a91e5",
   "metadata": {},
   "source": [
    "#### Inspect the 'geometry' attribute column:\n",
    "`your_var_name['geometry'].head()`\n",
    "\n",
    "\n",
    "*[quiz]* Take note of the data type (dtype)."
   ]
  },
  {
   "cell_type": "code",
   "execution_count": 25,
   "id": "a53b787d",
   "metadata": {},
   "outputs": [
    {
     "data": {
      "text/plain": [
       "0    POLYGON ((-87.60914 41.84469, -87.60915 41.844...\n",
       "1    POLYGON ((-87.59215 41.81693, -87.59231 41.816...\n",
       "2    POLYGON ((-87.62880 41.80189, -87.62879 41.801...\n",
       "3    POLYGON ((-87.60671 41.81681, -87.60670 41.816...\n",
       "4    POLYGON ((-87.59215 41.81693, -87.59215 41.816...\n",
       "Name: geometry, dtype: geometry"
      ]
     },
     "execution_count": 25,
     "metadata": {},
     "output_type": "execute_result"
    }
   ],
   "source": [
    "lang['geometry'].head()"
   ]
  },
  {
   "cell_type": "markdown",
   "id": "fab4e5af",
   "metadata": {},
   "source": [
    "#### Display the geometry of the fourth feature (i.e. index = 3) in the gdf:\n",
    "`your_var_name['geometry'][3]`\n",
    "\n",
    "\n",
    "*[quiz]* What shape best describes the shape of this feature?"
   ]
  },
  {
   "cell_type": "code",
   "execution_count": 41,
   "id": "87378227",
   "metadata": {},
   "outputs": [
    {
     "name": "stdout",
     "output_type": "stream",
     "text": [
      "POLYGON ((-87.60670812560372 41.816813771373916, -87.60670480953513 41.81657908583583, -87.60670022648416 41.8163387135525, -87.60669581538596 41.81609935772734, -87.60668982110386 41.815811802465646, -87.60668357216166 41.8155663152661, -87.60667660553902 41.81529991216345, -87.6066796364494 41.81499416811356, -87.6066823589318 41.81471953500857, -87.60667153481018 41.814281645324144, -87.60666414094077 41.813994602529604, -87.60665643548607 41.81366052091473, -87.60665089439038 41.81342058153232, -87.60664694986741 41.81317320016693, -87.60664346744456 41.812954776539605, -87.60663536449945 41.81265587393209, -87.60662867423541 41.81240396220565, -87.60662516618764 41.8122405459756, -87.60662310148156 41.812134384416815, -87.60661918378726 41.81193578400059, -87.60661336840799 41.81173632084688, -87.60660910203794 41.811578306019406, -87.60660495088327 41.811354023192386, -87.606598238989 41.81099140177078, -87.60659114670048 41.81069722560556, -87.60658567762151 41.81048011891593, -87.60658000377458 41.81025192405412, -87.60657645010201 41.81006844737666, -87.60657534794964 41.81001155104542, -87.60657181350413 41.80981800244545, -87.60656518017987 41.8095327576212, -87.60655739855572 41.80919814424605, -87.60655238528399 41.8090056290866, -87.60654825710203 41.808806203947526, -87.60654443694484 41.808624343836726, -87.60653828883383 41.80833165570629, -87.6065341011534 41.808137499450396, -87.60653021280278 41.80795580354339, -87.6065263591911 41.80771528567667, -87.60652315852589 41.80751552222915, -87.60651973924614 41.807386437310115, -87.6065140670783 41.80712242953583, -87.6065095382511 41.80691627832022, -87.6065024388025 41.80662278769413, -87.60649637320913 41.806370879927535, -87.60649364854622 41.80614144119497, -87.60648745840503 41.80589351538745, -87.60647784312069 41.80550837382793, -87.60647580565964 41.80535569682775, -87.60647161141623 41.805125151045225, -87.60645806763634 41.80453866825781, -87.60645400527414 41.80434643338574, -87.60644862866428 41.804081456964894, -87.60642931863634 41.803164399498684, -87.6064246860505 41.802942604826, -87.60641591599196 41.80251145071613, -87.60640720551974 41.802251163118015, -87.60676961320164 41.80223972709815, -87.60738430279127 41.80223055825083, -87.60765600991321 41.80222650433963, -87.60788582781375 41.802222908370645, -87.60912167186511 41.80220356352347, -87.60976864658288 41.8021934526125, -87.61004036329733 41.80218851989143, -87.61024003332636 41.802184894862464, -87.61070817886699 41.80217757715644, -87.61110853154797 41.80217158767533, -87.61128640348198 41.802169054036874, -87.61158573011966 41.802164789837136, -87.61223218645961 41.802155018273034, -87.61250323297327 41.80215098305088, -87.61284548006417 41.802145886352044, -87.61379192231995 41.80213184023216, -87.61407132605328 41.8021278399355, -87.6141925555012 41.802126104110414, -87.61433056850623 41.802124127704076, -87.61464269231554 41.802119657639885, -87.61496762550036 41.80211480661692, -87.61539069001685 41.80210789235424, -87.61549720978175 41.8021068335363, -87.61571009627147 41.80210531564503, -87.61585820654912 41.80210425889164, -87.61607575029291 41.802102763647866, -87.6161107439858 41.802102523296945, -87.61627190863278 41.80210141661369, -87.61634772581864 41.80210089340798, -87.61654885971156 41.80209782994795, -87.61663458270729 41.80209652422256, -87.61685103299662 41.80209322675308, -87.61691645148345 41.80209222996432, -87.6173462223889 41.8020857347965, -87.6174653677229 41.80208393395304, -87.6177465406197 41.802079477171475, -87.61796538987332 41.802076007855874, -87.61847205223889 41.80206797435985, -87.61848686927542 41.80206772627555, -87.61855086844588 41.80206665413523, -87.61863129320527 41.802065306816665, -87.61905740439148 41.80205816858063, -87.61940709713681 41.802052985011706, -87.61985043900457 41.802046411683754, -87.62022464072594 41.802040318008956, -87.62030765444837 41.80203896610382, -87.62043116533312 41.802036954370514, -87.62102683413576 41.802026834844845, -87.62145825731652 41.80201950356716, -87.62183981706104 41.8020131148767, -87.62191287022749 41.80201189166849, -87.62244828825932 41.80200357057324, -87.62264934339152 41.80200087904342, -87.62288850525395 41.80199767694787, -87.62329390353122 41.801989563099376, -87.62345336631321 41.801986702258105, -87.62395945246224 41.80197762094445, -87.62427297976497 41.80197290889303, -87.62456129894048 41.80196857668552, -87.62461727727626 41.801967630602554, -87.62508751141742 41.80196021228354, -87.62514990853188 41.80195922483369, -87.62559601579937 41.801951244048034, -87.62588976266044 41.801945797855375, -87.62611153132815 41.80194168526697, -87.62658307537615 41.80193852279686, -87.62672373321602 41.80193556723883, -87.62687152767947 41.8019324616523, -87.62721247458917 41.801925296549676, -87.62776020290592 41.80191472116574, -87.6279841828431 41.801911552970516, -87.62801220780071 41.80191115643228, -87.62804023238833 41.80191076015937, -87.62826072716214 41.801907640554745, -87.62852804120327 41.80190037688204, -87.62870375116418 41.80189560209127, -87.62879823732874 41.801893034488025, -87.6288080799678 41.80224938221934, -87.62882184782877 41.80266659714665, -87.62883009615192 41.80275069129007, -87.62884605027638 41.802884572752895, -87.62889649652843 41.803134268495704, -87.62891067454562 41.80322114326867, -87.62891496210848 41.803290119574726, -87.6289210116558 41.803365624347414, -87.62892825380081 41.80362534616187, -87.62893259385058 41.80381507105717, -87.62893973403925 41.80416775466859, -87.628955998237 41.804650161366425, -87.62896479201908 41.80501932073553, -87.6289676331017 41.80513665577946, -87.6289777079112 41.805639949836994, -87.62898823112907 41.80597687420674, -87.62899716024265 41.806249984873354, -87.62901097876838 41.80670459058631, -87.62902059560894 41.80708233073485, -87.62902477886473 41.80724461150604, -87.62901710529009 41.807400988259886, -87.6289900189115 41.807613503659795, -87.62896630722388 41.8077690962646, -87.6289662321867 41.80785965722032, -87.62898121943003 41.8083331366059, -87.62898263585996 41.80837122213107, -87.62897917871581 41.80847754165596, -87.62899232114667 41.808826488406154, -87.6290091641945 41.80896311943626, -87.62901287389712 41.80908491944936, -87.62901591397106 41.80918360113752, -87.62901591767215 41.809183732062195, -87.62901812378023 41.80927533553744, -87.62903528068507 41.809927549632185, -87.62904151910104 41.81015330457967, -87.6290408315073 41.81021607567505, -87.62903785599609 41.81027848970746, -87.62903212436349 41.810341229874986, -87.62902410480223 41.81040361270449, -87.62901692364281 41.810473204946085, -87.6290106590693 41.810542802532, -87.62900622465813 41.81061275437291, -87.62900270683772 41.81068271183295, -87.62900440555654 41.81073692169281, -87.62900431955383 41.81078666116114, -87.62900331960404 41.81083605199067, -87.62900048607669 41.81088543157702, -87.62899627708669 41.81093480272905, -87.62899069299766 41.81098416544883, -87.62898327834398 41.81103317390891, -87.62897714519436 41.81109076608685, -87.62897330071245 41.81114871533209, -87.62897175242004 41.81120633562211, -87.62897295129595 41.81126431579121, -87.62899375689994 41.81204381752322, -87.62899603685246 41.81212851406658, -87.62899603853917 41.812128561004016, -87.62899826271489 41.812218449646714, -87.62901720123666 41.81291732618426, -87.62901979050535 41.81301042373783, -87.62902279365615 41.81311837913436, -87.62902608974092 41.813236060112615, -87.6290452613247 41.81391367037743, -87.62906217059817 41.81450482206423, -87.62906356085722 41.81454530862739, -87.62906576334841 41.814637255578496, -87.62906576360398 41.81463726573388, -87.62906843976107 41.81472783274805, -87.62909359948273 41.8156541793209, -87.62911569210624 41.816358220830445, -87.62911881421769 41.81645024940638, -87.62911882307901 41.81645051208761, -87.62912189831886 41.81654521247318, -87.62912361188937 41.8165980502316, -87.6291255852767 41.81671092055065, -87.62913750757296 41.81717134538918, -87.6291472507021 41.817579615929766, -87.6291585011435 41.81801773936735, -87.62917071277181 41.818451751980966, -87.62918253847663 41.81887924482425, -87.629187853509 41.819063829682115, -87.62919071245913 41.81916080863861, -87.62919218044408 41.819254926121864, -87.62919496568276 41.81946110659789, -87.62925513787667 41.819787014645335, -87.62925897953271 41.81989680904713, -87.62925942695001 41.81993969102893, -87.62926152459428 41.820041241923974, -87.62926610640655 41.82016716345092, -87.62927104186167 41.82038639263506, -87.62927309480946 41.82049205938032, -87.62927511769588 41.82060047075923, -87.62927751589456 41.82075828076447, -87.62929101128259 41.82115902702329, -87.62930179639928 41.821555983269334, -87.6293100440901 41.82184967103645, -87.62931153658049 41.821922745834435, -87.62931444228269 41.82207609974896, -87.62932396092653 41.82237940022439, -87.62933289707853 41.82269401695262, -87.62933936685741 41.82302439837318, -87.62935088391205 41.823145216832216, -87.629356635493 41.82320631181083, -87.62936279268524 41.82327221202089, -87.62935040025334 41.823356865397884, -87.62935303589468 41.8235349163197, -87.62935396448754 41.82357574302126, -87.62935652492091 41.823676460508864, -87.6291297425374 41.82367962367404, -87.62896819970506 41.82368149243281, -87.62876532190091 41.82368383904767, -87.6286179305429 41.82368504218739, -87.62830656308215 41.823687582934824, -87.62806959945627 41.823690217183824, -87.6277344869874 41.82369677610998, -87.6275934143608 41.82369902444583, -87.627224939577 41.82370489637566, -87.62698708870555 41.82370809923335, -87.62661202559408 41.823711006309516, -87.62642224680934 41.82371376417948, -87.62608002879398 41.8237187363846, -87.62591974776295 41.8237210153253, -87.62574361150479 41.82372311459192, -87.62559794621336 41.82372485056514, -87.62531936393765 41.82372867716026, -87.62497215616358 41.82373411064784, -87.62482271021824 41.823735732859326, -87.62446432459515 41.82373962219041, -87.62432122057021 41.82374128261319, -87.62426776089141 41.82374167463069, -87.62314672393556 41.823755822672716, -87.62240779066713 41.82376514223724, -87.62234636528846 41.82376591682915, -87.62222982585945 41.82376738616025, -87.62160197732236 41.823775267423855, -87.62095332331079 41.823783406457096, -87.62039535937376 41.82379026692264, -87.61998816930563 41.823795271862544, -87.61917760591544 41.823805230613736, -87.61886174703943 41.823809109721985, -87.6185513181061 41.82381291801811, -87.61821435997896 41.82381705071321, -87.61794972729027 41.82382029561154, -87.61770996886861 41.823823235209524, -87.61725854541707 41.82383011791209, -87.6169968247497 41.823834107646256, -87.61673229763211 41.82383813937483, -87.61610922731991 41.823847592335895, -87.61547482917396 41.82385537231098, -87.61514774091994 41.82385938205802, -87.61436403577905 41.82386898820399, -87.61307586545516 41.82388477628119, -87.6126242723945 41.82389080517135, -87.61213605331174 41.82389732077577, -87.60984136661733 41.82392073796532, -87.60958706836169 41.8239233302702, -87.60833773776247 41.823936856818634, -87.60732734037146 41.823948916418225, -87.60702859187904 41.82395794994388, -87.60691604357245 41.823960064818166, -87.60687961339802 41.82396315498523, -87.60687305832275 41.82396480097776, -87.60643720434108 41.82330608474624, -87.60685918571652 41.82316570805976, -87.60685533006003 41.822728573039406, -87.6068526488037 41.82242460254308, -87.60684690560025 41.82212653863883, -87.60684469473264 41.82201181422022, -87.6068329651238 41.82150286969486, -87.60682337846411 41.82108691561883, -87.60682020393564 41.82095602353345, -87.60680883367007 41.820487201035306, -87.60680628352334 41.820382051664296, -87.60680354977386 41.82026932337828, -87.60679873015552 41.82007061161064, -87.60677170452449 41.81957187461968, -87.60677170420108 41.81957187077567, -87.60676659017096 41.819477492620884, -87.60676036316822 41.81934471563506, -87.6067528264812 41.81907881651855, -87.60675342900633 41.81903960031779, -87.60675297509786 41.81882502734551, -87.60674996732051 41.8186183880878, -87.60674735823706 41.81843914739708, -87.60674518638625 41.81830998828799, -87.60674253234453 41.81815212105517, -87.60673501624129 41.81794403035113, -87.60672984729013 41.817800911376665, -87.60672784818331 41.817732933571186, -87.60672652161489 41.817687826656055, -87.60672120877406 41.817507137421366, -87.60671660883158 41.817290969540544, -87.60671188120513 41.81707957587562, -87.60670812560372 41.816813771373916))\n"
     ]
    }
   ],
   "source": [
    "print(lang.geometry[3])"
   ]
  },
  {
   "cell_type": "markdown",
   "id": "c5c5172a",
   "metadata": {},
   "source": [
    "#### Display the other attributes of the same feature (i.e. index = 3):\n",
    "`your_var_name.iloc[3]`\n",
    "\n",
    "\n",
    "Take note of the _community_ name of this feature. You will need this for the next step."
   ]
  },
  {
   "cell_type": "code",
   "execution_count": 27,
   "id": "9982d37a",
   "metadata": {},
   "outputs": [
    {
     "data": {
      "text/plain": [
       "ComAreaID                                                    38\n",
       "community                                       GRAND BOULEVARD\n",
       "TRACTCnt                                                     14\n",
       "shape_area                                        48492503.1554\n",
       "shape_len                                          28196.837157\n",
       "                                    ...                        \n",
       "ChlLeadP                                                      1\n",
       "GonorrF                                                  1454.6\n",
       "GonorrM                                                  1680.0\n",
       "Tuberc                                                     13.2\n",
       "geometry      POLYGON ((-87.60670812560372 41.81681377137391...\n",
       "Name: 3, Length: 87, dtype: object"
      ]
     },
     "execution_count": 27,
     "metadata": {},
     "output_type": "execute_result"
    }
   ],
   "source": [
    "lang.iloc[3]"
   ]
  },
  {
   "cell_type": "markdown",
   "id": "f2d66dbf",
   "metadata": {},
   "source": [
    "### 2. Fetching data from OpenStreetMap\n",
    "For more details, refer to: https://osmnx.readthedocs.io/en/stable/internals.html#osmnx-geocoder-module\n",
    "\n",
    "We can use the osmnx package to read data from OpenStreetMap to GeoDataFrames. Now, we will fetch the city boundary of Chicago using `osmnx.geocode_to_gdf(query)`\n",
    "\n",
    "You can save your query (i.e. name of the country/city/region that you are interested in) as a separate variable. For example, if we want to fetch the city boundary of Chicago:"
   ]
  },
  {
   "cell_type": "code",
   "execution_count": 7,
   "id": "9da01b08",
   "metadata": {},
   "outputs": [],
   "source": [
    "city_name = 'Chicago, Illinois'\n",
    "city = ox.geocoder.geocode_to_gdf(city_name, which_result=1)"
   ]
  },
  {
   "cell_type": "markdown",
   "id": "a1c2692b",
   "metadata": {},
   "source": [
    "#### Now, do the same to fetch the boundary of the community you identified above:"
   ]
  },
  {
   "cell_type": "code",
   "execution_count": 8,
   "id": "20f36b93",
   "metadata": {},
   "outputs": [],
   "source": [
    "community_name = 'GRAND BOULEVARD, Chicago'\n",
    "community = ox.geocoder.geocode_to_gdf(community_name, which_result=3)"
   ]
  },
  {
   "cell_type": "markdown",
   "id": "81a1cc52",
   "metadata": {},
   "source": [
    "#### Inspect your new community variable:"
   ]
  },
  {
   "cell_type": "markdown",
   "id": "7ca9e805",
   "metadata": {},
   "source": [
    "# ⓘ \n",
    "> This community area is part of the larger _Bronzeville_ area, an important center for African-American culture and businesses in Chicago. Bronzeville is also one of 10 priority communities selected as a part of the initial phase of a community development initiative by its Mayor."
   ]
  },
  {
   "cell_type": "code",
   "execution_count": 9,
   "id": "ee904f9a",
   "metadata": {},
   "outputs": [
    {
     "data": {
      "text/html": [
       "<div>\n",
       "<style scoped>\n",
       "    .dataframe tbody tr th:only-of-type {\n",
       "        vertical-align: middle;\n",
       "    }\n",
       "\n",
       "    .dataframe tbody tr th {\n",
       "        vertical-align: top;\n",
       "    }\n",
       "\n",
       "    .dataframe thead th {\n",
       "        text-align: right;\n",
       "    }\n",
       "</style>\n",
       "<table border=\"1\" class=\"dataframe\">\n",
       "  <thead>\n",
       "    <tr style=\"text-align: right;\">\n",
       "      <th></th>\n",
       "      <th>geometry</th>\n",
       "      <th>bbox_north</th>\n",
       "      <th>bbox_south</th>\n",
       "      <th>bbox_east</th>\n",
       "      <th>bbox_west</th>\n",
       "      <th>place_id</th>\n",
       "      <th>osm_type</th>\n",
       "      <th>osm_id</th>\n",
       "      <th>lat</th>\n",
       "      <th>lon</th>\n",
       "      <th>display_name</th>\n",
       "      <th>class</th>\n",
       "      <th>type</th>\n",
       "      <th>importance</th>\n",
       "    </tr>\n",
       "  </thead>\n",
       "  <tbody>\n",
       "    <tr>\n",
       "      <th>0</th>\n",
       "      <td>LINESTRING (-87.45073 41.65135, -87.45029 41.6...</td>\n",
       "      <td>41.651352</td>\n",
       "      <td>41.650716</td>\n",
       "      <td>-87.449927</td>\n",
       "      <td>-87.450734</td>\n",
       "      <td>268774591</td>\n",
       "      <td>way</td>\n",
       "      <td>848582932</td>\n",
       "      <td>41.651002</td>\n",
       "      <td>-87.450294</td>\n",
       "      <td>Grand Boulevard, East Chicago, Lake County, In...</td>\n",
       "      <td>highway</td>\n",
       "      <td>residential</td>\n",
       "      <td>0.40001</td>\n",
       "    </tr>\n",
       "  </tbody>\n",
       "</table>\n",
       "</div>"
      ],
      "text/plain": [
       "                                            geometry  bbox_north  bbox_south  \\\n",
       "0  LINESTRING (-87.45073 41.65135, -87.45029 41.6...   41.651352   41.650716   \n",
       "\n",
       "   bbox_east  bbox_west   place_id osm_type     osm_id        lat        lon  \\\n",
       "0 -87.449927 -87.450734  268774591      way  848582932  41.651002 -87.450294   \n",
       "\n",
       "                                        display_name    class         type  \\\n",
       "0  Grand Boulevard, East Chicago, Lake County, In...  highway  residential   \n",
       "\n",
       "   importance  \n",
       "0     0.40001  "
      ]
     },
     "execution_count": 9,
     "metadata": {},
     "output_type": "execute_result"
    }
   ],
   "source": [
    "community"
   ]
  },
  {
   "cell_type": "markdown",
   "id": "788f7bff",
   "metadata": {},
   "source": [
    "#### and display its geometry:\n",
    "\n",
    "The shape you see should be more or less the same as the one you saw earlier (from the gdf)!"
   ]
  },
  {
   "cell_type": "code",
   "execution_count": 32,
   "id": "d76c795f",
   "metadata": {},
   "outputs": [
    {
     "data": {
      "image/svg+xml": [
       "<svg xmlns=\"http://www.w3.org/2000/svg\" xmlns:xlink=\"http://www.w3.org/1999/xlink\" width=\"100.0\" height=\"100.0\" viewBox=\"462465.2998165331 4611091.82649069 72.47718032536795 76.57823497988284\" preserveAspectRatio=\"xMinYMin meet\"><g transform=\"matrix(1,0,0,-1,0,9222260.23121636)\"><polyline fill=\"none\" stroke=\"#66cc99\" stroke-width=\"1.5315646995976566\" points=\"462468.1360474583,4611165.568494745 462504.5550535837,4611126.585805287 462534.9407659333,4611094.662721615\" opacity=\"0.8\" /></g></svg>"
      ],
      "text/plain": [
       "<LINESTRING (462468.136 4611165.568, 462504.555 4611126.586, 462534.941 4611...>"
      ]
     },
     "execution_count": 32,
     "metadata": {},
     "output_type": "execute_result"
    }
   ],
   "source": [
    "community['geometry'][0]"
   ]
  },
  {
   "cell_type": "markdown",
   "id": "f038fe43",
   "metadata": {},
   "source": [
    "#### Apart from boundaries, you can also get other map features from OSM such as roads, building footprints, waterways etc.\n",
    "\n",
    "See https://wiki.openstreetmap.org/wiki/Map_features for more information.\n",
    "\n",
    "#### Now, let us try to fetch the building footprint of all residential buildings within Chicago city boundary:\n",
    "\n",
    "We will include `'apartments', 'terrace', 'house', 'detached', 'semidetached_house'` as the building tags."
   ]
  },
  {
   "cell_type": "code",
   "execution_count": 11,
   "id": "7a1957db",
   "metadata": {},
   "outputs": [],
   "source": [
    "residential_chicago = ox.geometries.geometries_from_polygon(city['geometry'][0], tags = {'building': ['apartments', 'terrace', 'house', 'detached', 'semidetached_house']})"
   ]
  },
  {
   "cell_type": "markdown",
   "id": "be1c5160",
   "metadata": {},
   "source": [
    "#### Inspect the 'residential_chicago' gdf:"
   ]
  },
  {
   "cell_type": "code",
   "execution_count": 12,
   "id": "46bb9764",
   "metadata": {},
   "outputs": [
    {
     "data": {
      "text/html": [
       "<div>\n",
       "<style scoped>\n",
       "    .dataframe tbody tr th:only-of-type {\n",
       "        vertical-align: middle;\n",
       "    }\n",
       "\n",
       "    .dataframe tbody tr th {\n",
       "        vertical-align: top;\n",
       "    }\n",
       "\n",
       "    .dataframe thead th {\n",
       "        text-align: right;\n",
       "    }\n",
       "</style>\n",
       "<table border=\"1\" class=\"dataframe\">\n",
       "  <thead>\n",
       "    <tr style=\"text-align: right;\">\n",
       "      <th></th>\n",
       "      <th></th>\n",
       "      <th>geometry</th>\n",
       "      <th>addr:city</th>\n",
       "      <th>addr:housenumber</th>\n",
       "      <th>addr:postcode</th>\n",
       "      <th>addr:state</th>\n",
       "      <th>addr:street</th>\n",
       "      <th>source</th>\n",
       "      <th>amenity</th>\n",
       "      <th>name</th>\n",
       "      <th>shop</th>\n",
       "      <th>...</th>\n",
       "      <th>diplomatic</th>\n",
       "      <th>official_name</th>\n",
       "      <th>target</th>\n",
       "      <th>brand</th>\n",
       "      <th>brand:wikidata</th>\n",
       "      <th>brand:wikipedia</th>\n",
       "      <th>internet</th>\n",
       "      <th>contact:phone</th>\n",
       "      <th>ways</th>\n",
       "      <th>type</th>\n",
       "    </tr>\n",
       "    <tr>\n",
       "      <th>element_type</th>\n",
       "      <th>osmid</th>\n",
       "      <th></th>\n",
       "      <th></th>\n",
       "      <th></th>\n",
       "      <th></th>\n",
       "      <th></th>\n",
       "      <th></th>\n",
       "      <th></th>\n",
       "      <th></th>\n",
       "      <th></th>\n",
       "      <th></th>\n",
       "      <th></th>\n",
       "      <th></th>\n",
       "      <th></th>\n",
       "      <th></th>\n",
       "      <th></th>\n",
       "      <th></th>\n",
       "      <th></th>\n",
       "      <th></th>\n",
       "      <th></th>\n",
       "      <th></th>\n",
       "      <th></th>\n",
       "    </tr>\n",
       "  </thead>\n",
       "  <tbody>\n",
       "    <tr>\n",
       "      <th rowspan=\"5\" valign=\"top\">way</th>\n",
       "      <th>31064516</th>\n",
       "      <td>POLYGON ((-87.62857 41.91079, -87.62844 41.910...</td>\n",
       "      <td>Chicago</td>\n",
       "      <td>1555</td>\n",
       "      <td>60610</td>\n",
       "      <td>IL</td>\n",
       "      <td>North State Parkway</td>\n",
       "      <td>NaN</td>\n",
       "      <td>NaN</td>\n",
       "      <td>Archbishop's House</td>\n",
       "      <td>NaN</td>\n",
       "      <td>...</td>\n",
       "      <td>NaN</td>\n",
       "      <td>NaN</td>\n",
       "      <td>NaN</td>\n",
       "      <td>NaN</td>\n",
       "      <td>NaN</td>\n",
       "      <td>NaN</td>\n",
       "      <td>NaN</td>\n",
       "      <td>NaN</td>\n",
       "      <td>NaN</td>\n",
       "      <td>NaN</td>\n",
       "    </tr>\n",
       "    <tr>\n",
       "      <th>31065736</th>\n",
       "      <td>POLYGON ((-87.64017 41.90387, -87.64016 41.903...</td>\n",
       "      <td>Chicago</td>\n",
       "      <td>1200</td>\n",
       "      <td>60610</td>\n",
       "      <td>IL</td>\n",
       "      <td>North Clybourn Avenue</td>\n",
       "      <td>NaN</td>\n",
       "      <td>NaN</td>\n",
       "      <td>Clybourn 1200</td>\n",
       "      <td>NaN</td>\n",
       "      <td>...</td>\n",
       "      <td>NaN</td>\n",
       "      <td>NaN</td>\n",
       "      <td>NaN</td>\n",
       "      <td>NaN</td>\n",
       "      <td>NaN</td>\n",
       "      <td>NaN</td>\n",
       "      <td>NaN</td>\n",
       "      <td>NaN</td>\n",
       "      <td>NaN</td>\n",
       "      <td>NaN</td>\n",
       "    </tr>\n",
       "    <tr>\n",
       "      <th>35566516</th>\n",
       "      <td>POLYGON ((-87.66074 41.92484, -87.65907 41.924...</td>\n",
       "      <td>NaN</td>\n",
       "      <td>1237</td>\n",
       "      <td>NaN</td>\n",
       "      <td>NaN</td>\n",
       "      <td>West Fullerton Avenue</td>\n",
       "      <td>NaN</td>\n",
       "      <td>NaN</td>\n",
       "      <td>1237 West</td>\n",
       "      <td>NaN</td>\n",
       "      <td>...</td>\n",
       "      <td>NaN</td>\n",
       "      <td>NaN</td>\n",
       "      <td>NaN</td>\n",
       "      <td>NaN</td>\n",
       "      <td>NaN</td>\n",
       "      <td>NaN</td>\n",
       "      <td>NaN</td>\n",
       "      <td>NaN</td>\n",
       "      <td>NaN</td>\n",
       "      <td>NaN</td>\n",
       "    </tr>\n",
       "    <tr>\n",
       "      <th>40785425</th>\n",
       "      <td>POLYGON ((-87.64951 41.88162, -87.64951 41.881...</td>\n",
       "      <td>Chicago</td>\n",
       "      <td>855</td>\n",
       "      <td>60607</td>\n",
       "      <td>IL</td>\n",
       "      <td>West Madison Street</td>\n",
       "      <td>NaN</td>\n",
       "      <td>NaN</td>\n",
       "      <td>Porte</td>\n",
       "      <td>NaN</td>\n",
       "      <td>...</td>\n",
       "      <td>NaN</td>\n",
       "      <td>NaN</td>\n",
       "      <td>NaN</td>\n",
       "      <td>NaN</td>\n",
       "      <td>NaN</td>\n",
       "      <td>NaN</td>\n",
       "      <td>NaN</td>\n",
       "      <td>NaN</td>\n",
       "      <td>NaN</td>\n",
       "      <td>NaN</td>\n",
       "    </tr>\n",
       "    <tr>\n",
       "      <th>74267847</th>\n",
       "      <td>POLYGON ((-87.63425 41.87675, -87.63425 41.876...</td>\n",
       "      <td>Chicago</td>\n",
       "      <td>235</td>\n",
       "      <td>60607</td>\n",
       "      <td>IL</td>\n",
       "      <td>West Van Buren Street</td>\n",
       "      <td>NaN</td>\n",
       "      <td>NaN</td>\n",
       "      <td>235 West Van Buren Street</td>\n",
       "      <td>NaN</td>\n",
       "      <td>...</td>\n",
       "      <td>NaN</td>\n",
       "      <td>NaN</td>\n",
       "      <td>NaN</td>\n",
       "      <td>NaN</td>\n",
       "      <td>NaN</td>\n",
       "      <td>NaN</td>\n",
       "      <td>NaN</td>\n",
       "      <td>NaN</td>\n",
       "      <td>NaN</td>\n",
       "      <td>NaN</td>\n",
       "    </tr>\n",
       "  </tbody>\n",
       "</table>\n",
       "<p>5 rows × 123 columns</p>\n",
       "</div>"
      ],
      "text/plain": [
       "                                                                geometry  \\\n",
       "element_type osmid                                                         \n",
       "way          31064516  POLYGON ((-87.62857 41.91079, -87.62844 41.910...   \n",
       "             31065736  POLYGON ((-87.64017 41.90387, -87.64016 41.903...   \n",
       "             35566516  POLYGON ((-87.66074 41.92484, -87.65907 41.924...   \n",
       "             40785425  POLYGON ((-87.64951 41.88162, -87.64951 41.881...   \n",
       "             74267847  POLYGON ((-87.63425 41.87675, -87.63425 41.876...   \n",
       "\n",
       "                      addr:city addr:housenumber addr:postcode addr:state  \\\n",
       "element_type osmid                                                          \n",
       "way          31064516   Chicago             1555         60610         IL   \n",
       "             31065736   Chicago             1200         60610         IL   \n",
       "             35566516       NaN             1237           NaN        NaN   \n",
       "             40785425   Chicago              855         60607         IL   \n",
       "             74267847   Chicago              235         60607         IL   \n",
       "\n",
       "                                 addr:street source amenity  \\\n",
       "element_type osmid                                            \n",
       "way          31064516    North State Parkway    NaN     NaN   \n",
       "             31065736  North Clybourn Avenue    NaN     NaN   \n",
       "             35566516  West Fullerton Avenue    NaN     NaN   \n",
       "             40785425    West Madison Street    NaN     NaN   \n",
       "             74267847  West Van Buren Street    NaN     NaN   \n",
       "\n",
       "                                            name shop  ... diplomatic  \\\n",
       "element_type osmid                                     ...              \n",
       "way          31064516         Archbishop's House  NaN  ...        NaN   \n",
       "             31065736              Clybourn 1200  NaN  ...        NaN   \n",
       "             35566516                  1237 West  NaN  ...        NaN   \n",
       "             40785425                      Porte  NaN  ...        NaN   \n",
       "             74267847  235 West Van Buren Street  NaN  ...        NaN   \n",
       "\n",
       "                      official_name target brand brand:wikidata  \\\n",
       "element_type osmid                                                \n",
       "way          31064516           NaN    NaN   NaN            NaN   \n",
       "             31065736           NaN    NaN   NaN            NaN   \n",
       "             35566516           NaN    NaN   NaN            NaN   \n",
       "             40785425           NaN    NaN   NaN            NaN   \n",
       "             74267847           NaN    NaN   NaN            NaN   \n",
       "\n",
       "                      brand:wikipedia internet contact:phone ways type  \n",
       "element_type osmid                                                      \n",
       "way          31064516             NaN      NaN           NaN  NaN  NaN  \n",
       "             31065736             NaN      NaN           NaN  NaN  NaN  \n",
       "             35566516             NaN      NaN           NaN  NaN  NaN  \n",
       "             40785425             NaN      NaN           NaN  NaN  NaN  \n",
       "             74267847             NaN      NaN           NaN  NaN  NaN  \n",
       "\n",
       "[5 rows x 123 columns]"
      ]
     },
     "execution_count": 12,
     "metadata": {},
     "output_type": "execute_result"
    }
   ],
   "source": [
    "residential_chicago.head()"
   ]
  },
  {
   "cell_type": "markdown",
   "id": "e7c968a3",
   "metadata": {},
   "source": [
    "### 3. Projections and coordinate reference systems (CRS)\n",
    "For more details, refer to: https://geopandas.org/en/stable/docs/user_guide/projections.html"
   ]
  },
  {
   "cell_type": "markdown",
   "id": "569f0087",
   "metadata": {},
   "source": [
    "When reading geospatial files with `geopandas.read_file()`, things should mostly work out of the box with a proper CRS defined. You can use `GeoDataFrame.crs` to display CRS information:"
   ]
  },
  {
   "cell_type": "code",
   "execution_count": 13,
   "id": "a53df334",
   "metadata": {},
   "outputs": [
    {
     "data": {
      "text/plain": [
       "<Geographic 2D CRS: EPSG:4326>\n",
       "Name: WGS 84\n",
       "Axis Info [ellipsoidal]:\n",
       "- Lat[north]: Geodetic latitude (degree)\n",
       "- Lon[east]: Geodetic longitude (degree)\n",
       "Area of Use:\n",
       "- name: World.\n",
       "- bounds: (-180.0, -90.0, 180.0, 90.0)\n",
       "Datum: World Geodetic System 1984 ensemble\n",
       "- Ellipsoid: WGS 84\n",
       "- Prime Meridian: Greenwich"
      ]
     },
     "execution_count": 13,
     "metadata": {},
     "output_type": "execute_result"
    }
   ],
   "source": [
    "city.crs"
   ]
  },
  {
   "cell_type": "markdown",
   "id": "8c840e1f",
   "metadata": {},
   "source": [
    "*Note: Sometimes, you may need to manually set a CRS or perform a reprojection if the CRS information is not as expected.*\n",
    "\n",
    "__Reprojections__: Re-projecting is the process of changing the representation of locations from one coordinate system to another. All projections of locations on the Earth into a two-dimensional plane are distortions, the projection that is best for your application may be different from the projection associated with the data you import. In these cases, data can be re-projected using `GeoDataFrame.to_crs()`. Specify the name of the CRS by their _EPSG_ code. If you are working with multiple geospatial data files, all must share the same CRS in order for the data to be mapped accurately."
   ]
  },
  {
   "cell_type": "markdown",
   "id": "653507d8",
   "metadata": {},
   "source": [
    "#### Geographic CRS vs. projected CRS\n",
    "It is generally preferred to work with projected CRS than geographic CRS. Also, computing geometric properties (e.g., area) in a geographic CRS will likely to give inaccurate results. We usually re-project geometries to a projected CRS before performing such operations."
   ]
  },
  {
   "cell_type": "markdown",
   "id": "09796aa0",
   "metadata": {},
   "source": [
    "#### Reproject your gdf to one of the most commonly used metric projected CRS (EPSG:26916) for Chicago:\n",
    "\n",
    "`your_var_name = your_var_name.to_crs(\"EPSG:26916\")`\n",
    "\n",
    "`your_var_name.crs`"
   ]
  },
  {
   "cell_type": "code",
   "execution_count": 14,
   "id": "33551475",
   "metadata": {},
   "outputs": [
    {
     "data": {
      "text/plain": [
       "<Derived Projected CRS: EPSG:26916>\n",
       "Name: NAD83 / UTM zone 16N\n",
       "Axis Info [cartesian]:\n",
       "- E[east]: Easting (metre)\n",
       "- N[north]: Northing (metre)\n",
       "Area of Use:\n",
       "- name: North America - between 90°W and 84°W - onshore and offshore. Canada - Manitoba; Nunavut; Ontario. United States (USA) - Alabama; Arkansas; Florida; Georgia; Indiana; Illinois; Kentucky; Louisiana; Michigan; Minnesota; Mississippi; Missouri; North Carolina; Ohio; Tennessee; Wisconsin.\n",
       "- bounds: (-90.0, 23.97, -84.0, 84.0)\n",
       "Coordinate Operation:\n",
       "- name: UTM zone 16N\n",
       "- method: Transverse Mercator\n",
       "Datum: North American Datum 1983\n",
       "- Ellipsoid: GRS 1980\n",
       "- Prime Meridian: Greenwich"
      ]
     },
     "execution_count": 14,
     "metadata": {},
     "output_type": "execute_result"
    }
   ],
   "source": [
    "city=city.to_crs(\"26916\")\n",
    "city.crs"
   ]
  },
  {
   "cell_type": "markdown",
   "id": "90601166",
   "metadata": {},
   "source": [
    "#### Now do the same for the _community_ variable and reproject it to the same _EPSG:26916_ CRS:"
   ]
  },
  {
   "cell_type": "code",
   "execution_count": 15,
   "id": "3bf42815",
   "metadata": {},
   "outputs": [
    {
     "data": {
      "text/plain": [
       "<Derived Projected CRS: EPSG:26916>\n",
       "Name: NAD83 / UTM zone 16N\n",
       "Axis Info [cartesian]:\n",
       "- E[east]: Easting (metre)\n",
       "- N[north]: Northing (metre)\n",
       "Area of Use:\n",
       "- name: North America - between 90°W and 84°W - onshore and offshore. Canada - Manitoba; Nunavut; Ontario. United States (USA) - Alabama; Arkansas; Florida; Georgia; Indiana; Illinois; Kentucky; Louisiana; Michigan; Minnesota; Mississippi; Missouri; North Carolina; Ohio; Tennessee; Wisconsin.\n",
       "- bounds: (-90.0, 23.97, -84.0, 84.0)\n",
       "Coordinate Operation:\n",
       "- name: UTM zone 16N\n",
       "- method: Transverse Mercator\n",
       "Datum: North American Datum 1983\n",
       "- Ellipsoid: GRS 1980\n",
       "- Prime Meridian: Greenwich"
      ]
     },
     "execution_count": 15,
     "metadata": {},
     "output_type": "execute_result"
    }
   ],
   "source": [
    "community = community.to_crs(\"26916\")\n",
    "community.crs"
   ]
  },
  {
   "cell_type": "markdown",
   "id": "9ffe2923",
   "metadata": {},
   "source": [
    "#### *[quiz]* Let's now see how big the GB neighbourhood is:\n",
    "\n",
    "_Refer to the [geopandas documentation](https://geopandas.org/en/stable/docs/reference/api/geopandas.GeoSeries.area.html#) and complete the code below to compute the area of the GB neighbourhood._"
   ]
  },
  {
   "cell_type": "code",
   "execution_count": 47,
   "id": "32fb2774",
   "metadata": {},
   "outputs": [
    {
     "data": {
      "text/plain": [
       "0    0.0\n",
       "dtype: float64"
      ]
     },
     "execution_count": 47,
     "metadata": {},
     "output_type": "execute_result"
    }
   ],
   "source": [
    "community.area"
   ]
  },
  {
   "cell_type": "markdown",
   "id": "1af821d9",
   "metadata": {},
   "source": [
    "#### We can also compute the perimeter of the neighbourhood with:"
   ]
  },
  {
   "cell_type": "code",
   "execution_count": 28,
   "id": "76cf5680",
   "metadata": {},
   "outputs": [
    {
     "data": {
      "text/plain": [
       "0    97.42024\n",
       "dtype: float64"
      ]
     },
     "execution_count": 28,
     "metadata": {},
     "output_type": "execute_result"
    }
   ],
   "source": [
    "community.length"
   ]
  },
  {
   "cell_type": "markdown",
   "id": "f4d77464",
   "metadata": {},
   "source": [
    "__Note:__ The units of follow those defined by the CRS used. In this case (EPSG:26916), the area is expressed in _square metres_, and perimeter in _metres_."
   ]
  },
  {
   "cell_type": "markdown",
   "id": "4fae3636",
   "metadata": {},
   "source": [
    "### 4. Basic tools from geopandas\n",
    "For more details, refer to: https://geopandas.org/en/stable/docs/reference/tools.html\n",
    "\n",
    "In this section, we will cover two main tools:\n",
    "- Clip\n",
    "- Spatial join"
   ]
  },
  {
   "cell_type": "markdown",
   "id": "7d1eb392",
   "metadata": {},
   "source": [
    "#### Clip (Source: https://gisgeography.com/clip-tool-gis/)\n",
    "\n",
    "The Clip Tool cuts out an input layer to a defined feature boundary. The clipping layer must be a polygon. But the input layer can be points, lines, or polygons.\n",
    "\n",
    "In the image below, the first figure represents the input layer and the second figure represents the clipping layer.\n",
    "\n",
    "![](https://gisgeography.com/wp-content/uploads/2020/10/Clip-Tool-1536x487.png)\n",
    "\n",
    "We can use `input_layer.clip(clipping_layer)` to perform the Clip. We will now look at supermarket locations in Chicago and to perform a Clip. You can also refer to this other example in the geopandas documentation: https://geopandas.org/en/stable/gallery/plot_clip.html"
   ]
  },
  {
   "cell_type": "markdown",
   "id": "84c530eb",
   "metadata": {},
   "source": [
    "#### Load and inspect Chicago supermarkets data:"
   ]
  },
  {
   "cell_type": "code",
   "execution_count": null,
   "id": "0c5b7c76",
   "metadata": {},
   "outputs": [],
   "source": [
    "supermarkets = gpd.read_file(\"your file path\") # replace file path to 'chicago_sup.shp' in your working directory\n",
    "supermarkets.head()"
   ]
  },
  {
   "cell_type": "markdown",
   "id": "3303be69",
   "metadata": {},
   "source": [
    "*[Quiz]* What type of geometry do we see in this supermarket dataset?"
   ]
  },
  {
   "cell_type": "markdown",
   "id": "2fa5a336",
   "metadata": {},
   "source": [
    "#### Re-project supermarkets to EPSG:26916:"
   ]
  },
  {
   "cell_type": "code",
   "execution_count": 113,
   "id": "f3e0fff2",
   "metadata": {},
   "outputs": [],
   "source": [
    "supermarkets = supermarkets.to_crs(\"EPSG:26916\")"
   ]
  },
  {
   "cell_type": "markdown",
   "id": "bee8fc63",
   "metadata": {},
   "source": [
    "#### Plot Chicago neighbourhoods (from Chicago statistics gdf) and supermarkets:\n",
    "\n",
    "_Please refer to the [geopandas documentation](https://geopandas.org/en/stable/docs/reference/api/geopandas.GeoDataFrame.plot.html) to complete the code below._"
   ]
  },
  {
   "cell_type": "code",
   "execution_count": null,
   "id": "0a476bd8",
   "metadata": {},
   "outputs": [],
   "source": [
    "fig, (ax1) = plt.subplots(figsize=(5, 5))\n",
    "your_var_name.plot(ax=ax1) # replace your_var_name (Chicago statistics gdf from Part 1) accordingly\n",
    "\n",
    "# Now, write your code here to add supermarkets to the plot.\n",
    "# You can use the 'color' parameter to make the supermarkets stand out."
   ]
  },
  {
   "cell_type": "markdown",
   "id": "a6ec6733",
   "metadata": {},
   "source": [
    "#### Get boundary of Lincoln Park, one of Chicago's largest neighbourhoods, from OpenStreetMap:\n",
    "\n",
    "# ⓘ \n",
    "> Lincoln Park is one of the most attractive (and expensive!) neighbourhoods in Chicago thanks to its proximity to the city center, ample green space, and vibrant atmosphere. "
   ]
  },
  {
   "cell_type": "code",
   "execution_count": null,
   "id": "fbe800f5",
   "metadata": {},
   "outputs": [],
   "source": [
    "lp_chicago = ox.geocoder.geocode_to_gdf('Lincoln Park, Chicago', which_result=2)\n",
    "lp_chicago "
   ]
  },
  {
   "cell_type": "markdown",
   "id": "9f587468",
   "metadata": {},
   "source": [
    "Check that _'class' = boundary_ and _'type' = administrative_. Otherwise, play around with the `which_result` parameter."
   ]
  },
  {
   "cell_type": "markdown",
   "id": "1b305182",
   "metadata": {},
   "source": [
    "#### Re-project lp_chicago to EPSG:26916:"
   ]
  },
  {
   "cell_type": "code",
   "execution_count": 127,
   "id": "39eb80c7",
   "metadata": {},
   "outputs": [],
   "source": [
    "lp_chicago = lp_chicago.to_crs(\"EPSG:26916\")"
   ]
  },
  {
   "cell_type": "markdown",
   "id": "011f71ce",
   "metadata": {},
   "source": [
    "#### Visualise the Lincoln Park neighbourhood on the map:\n",
    "\n",
    "_Refer to the geopandas documentation on [mapping and plotting tools](https://geopandas.org/en/stable/docs/user_guide/mapping.html) and [boundaries](https://geopandas.org/en/stable/docs/reference/api/geopandas.GeoSeries.boundary.html) to plot a **red boundary** of the Lincoln Park neighbourhood._ "
   ]
  },
  {
   "cell_type": "code",
   "execution_count": null,
   "id": "f92ef962",
   "metadata": {},
   "outputs": [],
   "source": [
    "fig, (ax1) = plt.subplots(figsize=(5, 5))\n",
    "your_var_name.plot(ax=ax1) # replace your_var_name (Chicago statistics gdf from Part 1) accordingly\n",
    "supermarkets.plot(# complete the code here to add supermarkets (color = 'black') to the map)\n",
    "    \n",
    "# Now, write your code here to add a red boundary of the Lincoln Park neighbourhood to the plot.  "
   ]
  },
  {
   "cell_type": "markdown",
   "id": "622bca7d",
   "metadata": {},
   "source": [
    "#### We will now clip the supermarket dataset using the Lincoln Park neighbourhood boundary:"
   ]
  },
  {
   "cell_type": "code",
   "execution_count": null,
   "id": "7a540dac",
   "metadata": {},
   "outputs": [],
   "source": [
    "supermarkets_lp = supermarkets.clip(lp_chicago) # ignore warning"
   ]
  },
  {
   "cell_type": "markdown",
   "id": "66560838",
   "metadata": {},
   "source": [
    "#### *[Screenshot]* Plot the results of the Clip:\n",
    "\n",
    "_Complete the lines of code below accordingly._"
   ]
  },
  {
   "cell_type": "code",
   "execution_count": null,
   "id": "58551cea",
   "metadata": {},
   "outputs": [],
   "source": [
    "fig, (ax1) = plt.subplots(figsize=(5, 5))\n",
    "your_var_name.plot(ax=ax1) # replace your_var_name (Chicago statistics gdf from Part 1) accordingly\n",
    "# Add your code here to plot (in black) the supermarkets IN Lincoln Park, i.e., the clipped supermarket dataset\n",
    "# Add your code here to plot (in red) the boundary of Lincoln Park"
   ]
  },
  {
   "cell_type": "markdown",
   "id": "c589c9d1",
   "metadata": {},
   "source": [
    "*[Quiz]* How many supermarkets are located in Lincoln Park, Chicago?"
   ]
  },
  {
   "cell_type": "markdown",
   "id": "0a8d1b3e",
   "metadata": {},
   "source": [
    "# ⓘ \n",
    "> Access to essential services and amenities is an important issue that urban planners have to consider in their work. By mapping their locations (e.g. supermarkets as we have just done) in relation to other key features of the cities like the road network and building footprint, planners can identify areas in which access to such services are lacking. "
   ]
  },
  {
   "cell_type": "markdown",
   "id": "3ccf9345",
   "metadata": {},
   "source": [
    "#### Spatial Join (Source: https://gisgeography.com/spatial-join/)\n",
    "\n",
    "The spatial join tool inserts the columns from one feature table to another based on location or proximity. Consider the _supermarkets_ dataset that we have just seen. By running a spatial join, you can transfer the information about the supermarkets to the Chicago gdf that we have been working with. As long as the supermarkets dataset contains location information, any field can be joined to the neighbourhoods listed in the Chicago health and socioeconomic statistics dataset.\n",
    "\n",
    "In geopandas, we can perform a spatial join with \n",
    "\n",
    "`geopandas.sjoin(left_df, right_df, how='inner', predicate='intersects')`\n",
    "\n",
    "There are different __predicates based on the nature of the spatial relationships__ (see https://gisgeography.com/spatial-join/ for graphical representations of each) that can be used to define the join:\n",
    "- __Intersect__: Two features touch at any location. (default)\n",
    "- __Contains/Completely within__: The join feature is completely contained within the target feature. \n",
    "- __Identical__: Both features match identically. When two features are exactly without having any difference or variant of any kind, the features are identical.\n",
    "- __Closest/Nearest__: The join feature is nearest/closest to the target feature. When there are several possible features to join, this spatial join takes only the closest feature.\n",
    "- __Within a distance__: Two features are within a set distance. This spatial relationship is defined by how far two or more entities can be found on a map.\n",
    "\n",
    "There are also different __types of joins (how)__ (see also https://geopandas.org/en/stable/docs/reference/api/geopandas.sjoin.html#geopandas.sjoin) to determine how the columns from one table should be joined to the other:\n",
    "- __inner__: use intersection of keys from both dfs; retain only left_df geometry column\n",
    "- __left__: use keys from left_df; retain only left_df geometry column\n",
    "- __right__: use keys from right_df; retain only right_df geometry column\n",
    "\n",
    "\n",
    "We will now add some supermarket information to the various neighbourhoods in Chicago. You can refer to another example here: https://geopandas.org/en/stable/gallery/spatial_joins.html."
   ]
  },
  {
   "cell_type": "markdown",
   "id": "31912d39",
   "metadata": {},
   "source": [
    "#### Re-inspect the Chicago statistics gdf (your_var_name):"
   ]
  },
  {
   "cell_type": "code",
   "execution_count": null,
   "id": "535a01c2",
   "metadata": {},
   "outputs": [],
   "source": [
    "your_var_name.head() # replace your_var_name accordingly"
   ]
  },
  {
   "cell_type": "markdown",
   "id": "206d750b",
   "metadata": {},
   "source": [
    "We can see that there are __87__ columns in the Chicago statistics dataset."
   ]
  },
  {
   "cell_type": "markdown",
   "id": "73044902",
   "metadata": {},
   "source": [
    "#### Re-inspect the supermarket gdf:"
   ]
  },
  {
   "cell_type": "code",
   "execution_count": null,
   "id": "af0d2c3d",
   "metadata": {},
   "outputs": [],
   "source": [
    "supermarkets.head()"
   ]
  },
  {
   "cell_type": "markdown",
   "id": "734a796d",
   "metadata": {},
   "source": [
    "We can see that there are __8__ columns in the supermarkets dataset."
   ]
  },
  {
   "cell_type": "markdown",
   "id": "6283a508",
   "metadata": {},
   "source": [
    "#### Now, we will perform the spatial join with:\n",
    "\n",
    "`left_df = your_var_name`\n",
    "\n",
    "`right_df = supermarkets`\n",
    "\n",
    "According to the information provided above on spatial relationships and join types, complete the code below `how` and `predicate` parameters to perform a spatial join where\n",
    "\n",
    "    - the keys of the left_df are used and only the geometry of the left_df is retained\n",
    "    - features are joined as long as they touch at any location"
   ]
  },
  {
   "cell_type": "code",
   "execution_count": null,
   "id": "98b7d976",
   "metadata": {},
   "outputs": [],
   "source": [
    "joined_df = gpd.sjoin(your_var_name, supermarkets, how=, predicate=) # replace your_var_name accordingly and complete the code\n",
    "joined_df.head()"
   ]
  },
  {
   "cell_type": "markdown",
   "id": "172da20e",
   "metadata": {},
   "source": [
    "Scroll across all the columns to the end and we can see that 7 columns from the _supermarkets_ dataset (without geometry) have been joined to the Chicago health and socioeconomic statistics dataset along with an index column ('index_right'). Note that the rows with __NaN__ indicate neighbourhoods that did not have any supermarkets (0 points intersecting the polygon).\n",
    "\n",
    "Also note that results will include multiple output records for a single input record with multiple intersecting features. This means that a neighbourhood (e.g. Lincoln Park) with three supermarkets as we have seen earlier will appear three times in the join output:"
   ]
  },
  {
   "cell_type": "code",
   "execution_count": null,
   "id": "d526465b",
   "metadata": {},
   "outputs": [],
   "source": [
    "joined_df.loc[joined_df['community'] == \"LINCOLN PARK\"]"
   ]
  },
  {
   "cell_type": "markdown",
   "id": "23fdaa5d",
   "metadata": {},
   "source": [
    "#### Now, we wanted to find the percentage of Chicago neighbourhoods with at least one supermarket, we can do the following:"
   ]
  },
  {
   "cell_type": "markdown",
   "id": "c3954930",
   "metadata": {},
   "source": [
    "1: Establish a df giving us the neighbourhoods in which each supermarket (from the _supermarkets_ dataset) is located."
   ]
  },
  {
   "cell_type": "code",
   "execution_count": 179,
   "id": "68340e26",
   "metadata": {},
   "outputs": [],
   "source": [
    "nbhds_w_supermarkets = joined_df[pd.notna(joined_df.Chain)]"
   ]
  },
  {
   "cell_type": "markdown",
   "id": "e1bee9da",
   "metadata": {},
   "source": [
    "2: Count the number of unique neighbourhoods ('community' column) with at least one supermarket."
   ]
  },
  {
   "cell_type": "code",
   "execution_count": 180,
   "id": "1712d09d",
   "metadata": {},
   "outputs": [],
   "source": [
    "nbhds_w_supermarkets = nbhds_w_supermarkets['community'].nunique()"
   ]
  },
  {
   "cell_type": "markdown",
   "id": "0ea1379f",
   "metadata": {},
   "source": [
    "3: *[quiz]* Compute percentage:"
   ]
  },
  {
   "cell_type": "code",
   "execution_count": null,
   "id": "9f9921e4",
   "metadata": {},
   "outputs": [],
   "source": [
    "round(nbhds_w_supermarkets/len(your_var_name)*100,0) # replace your_var_name accordingly (Chicago statistics from Part 1)"
   ]
  },
  {
   "cell_type": "markdown",
   "id": "001ea95c",
   "metadata": {},
   "source": [
    "### Well done!\n",
    "\n",
    "We’ve come to the end of this quest where you:\n",
    "\n",
    "   1. Performed I/O operations \n",
    "   2. Retrieved data from OpenStreetMap\n",
    "   3. Reprojected geospatial data\n",
    "   4. Used basic geoprocessing tools from geopandas\n",
    "   5. Created basic plots of spatial data\n",
    "\n",
    "Now go back to the StackUp website to prepare your deliverables for submission!"
   ]
  },
  {
   "cell_type": "code",
   "execution_count": null,
   "id": "9dee6719",
   "metadata": {},
   "outputs": [],
   "source": []
  }
 ],
 "metadata": {
  "kernelspec": {
   "display_name": "Python 3 (ipykernel)",
   "language": "python",
   "name": "python3"
  },
  "language_info": {
   "codemirror_mode": {
    "name": "ipython",
    "version": 3
   },
   "file_extension": ".py",
   "mimetype": "text/x-python",
   "name": "python",
   "nbconvert_exporter": "python",
   "pygments_lexer": "ipython3",
   "version": "3.10.8"
  }
 },
 "nbformat": 4,
 "nbformat_minor": 5
}
