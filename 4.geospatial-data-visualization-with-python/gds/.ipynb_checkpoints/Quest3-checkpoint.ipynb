{
 "cells": [
  {
   "cell_type": "code",
   "execution_count": 2,
   "id": "af638a74",
   "metadata": {},
   "outputs": [
    {
     "ename": "NameError",
     "evalue": "name 'USE_PYGEOS' is not defined",
     "output_type": "error",
     "traceback": [
      "\u001b[1;31m---------------------------------------------------------------------------\u001b[0m",
      "\u001b[1;31mNameError\u001b[0m                                 Traceback (most recent call last)",
      "Cell \u001b[1;32mIn[2], line 5\u001b[0m\n\u001b[0;32m      3\u001b[0m \u001b[38;5;28;01mimport\u001b[39;00m \u001b[38;5;21;01mnumpy\u001b[39;00m \u001b[38;5;28;01mas\u001b[39;00m \u001b[38;5;21;01mnp\u001b[39;00m\n\u001b[0;32m      4\u001b[0m \u001b[38;5;28;01mimport\u001b[39;00m \u001b[38;5;21;01mos\u001b[39;00m\n\u001b[1;32m----> 5\u001b[0m os\u001b[38;5;241m.\u001b[39menviron[\u001b[43mUSE_PYGEOS\u001b[49m] \u001b[38;5;241m=\u001b[39m\u001b[38;5;241m0\u001b[39m\n\u001b[0;32m      6\u001b[0m \u001b[38;5;28;01mimport\u001b[39;00m \u001b[38;5;21;01mpandas\u001b[39;00m \u001b[38;5;28;01mas\u001b[39;00m \u001b[38;5;21;01mpd\u001b[39;00m\n\u001b[0;32m      7\u001b[0m \u001b[38;5;28;01mimport\u001b[39;00m \u001b[38;5;21;01mgeopandas\u001b[39;00m \u001b[38;5;28;01mas\u001b[39;00m \u001b[38;5;21;01mgpd\u001b[39;00m\n",
      "\u001b[1;31mNameError\u001b[0m: name 'USE_PYGEOS' is not defined"
     ]
    }
   ],
   "source": [
    "# Import relevant libraries \n",
    "\n",
    "import numpy as np\n",
    "import os\n",
    "os.environ[USE_PYGEOS] =0\n",
    "import pandas as pd\n",
    "import geopandas as gpd\n",
    "import pysal as ps\n",
    "import libpysal\n",
    "import pyproj\n",
    "import geopy\n",
    "import cartopy as cp\n",
    "import geojson\n",
    "import osmnx as ox\n",
    "import matplotlib.pyplot as plt\n",
    "import sklearn\n",
    "import seaborn as sns\n",
    "import bokeh\n",
    "import folium\n",
    "import warnings\n",
    "warnings.filterwarnings('ignore')"
   ]
  },
  {
   "cell_type": "markdown",
   "id": "6c69a479",
   "metadata": {},
   "source": [
    "# Quest 3: Visualising geospatial data \n",
    "\n",
    "In this final quest, we will focus on creating maps with multiple layers of geospatial data. In particular, we will cover the plotting tools offered by the matplotlib Python library, as well as interactive mapping with the folium library. \n",
    "\n",
    "Data sources:\n",
    "\n",
    "- https://data.cityofchicago.org/\n",
    "\n",
    "    - https://data.cityofchicago.org/Buildings/Building-Footprints-current-/hz9b-7nh8\n",
    "\n",
    "    - https://data.cityofchicago.org/Parks-Recreation/Parks-Chicago-Park-District-Park-Boundaries-curren/ej32-qgdr\n",
    "\n",
    "    - https://data.cityofchicago.org/Transportation/Major-Streets/ueqs-5wr6"
   ]
  },
  {
   "cell_type": "markdown",
   "id": "b9475c62",
   "metadata": {},
   "source": [
    "## 1. Plotting with matplotlib\n",
    "Source: https://matplotlib.org/\n",
    "\n",
    "We have already seen matplotlib in action in _Quest 2: Exploring and manipulating geospatial data with geopandas_. Now, we will go through the process step-by-step using Chicago neighbourhood and supermarket data from the previous quest along with other datasets on Chicago's built environment."
   ]
  },
  {
   "cell_type": "markdown",
   "id": "57e2c662",
   "metadata": {},
   "source": [
    "#### Load your data. \n",
    "Note: _Operations involving the __Building Footprint__ dataset may take a while given the large file size._\n",
    "\n",
    "`var_name = gpd.read_file(\"your filepath\")`"
   ]
  },
  {
   "cell_type": "code",
   "execution_count": null,
   "id": "00d769f0",
   "metadata": {},
   "outputs": [],
   "source": [
    "# Modify the code accordingly based on the location of your downloaded data #\n",
    "neighbourhoods = gpd.read_file(\"...YOURFILEPATH.../chicago_data/comarea/ComArea_ACS14_f.shp\") # this file can be found in the gds_2 folder from Quest 2 \n",
    "supermarkets = gpd.read_file(\"...YOURFILEPATH.../chicago_data/grocery/chicago_sup.shp\") # this file can be found in the gds_2 folder from Quest 2\n",
    "buildings = gpd.read_file(\"...YOURFILEPATH.../chicago_data_2/Building_Footprint/bfootprint.shp\")\n",
    "streets = gpd.read_file(\"...YOURFILEPATH.../chicago_data_2/Major_Streets/Major_Streets.shp\")\n",
    "parks = gpd.read_file(\"...YOURFILEPATH.../chicago_data_2/Parks/Parks.shp\")"
   ]
  },
  {
   "cell_type": "markdown",
   "id": "f890fcfc",
   "metadata": {},
   "source": [
    "#### Create plot (axis) object for Chicago neighbourhoods.\n",
    "\n",
    "You can customise plot parameters such as figure size `figsize`, feature colour `facecolor`/`edgecolor`, and more... (see https://matplotlib.org/stable/api/_as_gen/matplotlib.pyplot.figure.html). For now, just work with the parameters specified in the code.\n",
    "\n",
    "Remember that your data must always be plotted on a defined axis object (in this case _ax_) for it to appear on your plot!"
   ]
  },
  {
   "cell_type": "code",
   "execution_count": null,
   "id": "fc006d20",
   "metadata": {},
   "outputs": [],
   "source": [
    "fig, ax = plt.subplots(1,1, figsize = (8, 8))\n",
    "neighbourhoods.plot(ax = ax, facecolor = \"white\", edgecolor = \"black\")"
   ]
  },
  {
   "cell_type": "markdown",
   "id": "960e841e",
   "metadata": {},
   "source": [
    "#### Add supermarkets to the same plot.\n",
    "Add the code `supermarkets.plot(ax = ax, facecolor = \"blue\")` to the cell below and run it."
   ]
  },
  {
   "cell_type": "code",
   "execution_count": null,
   "id": "6beb2bf5",
   "metadata": {},
   "outputs": [],
   "source": [
    "fig, ax = plt.subplots(1,1, figsize = (8, 8))\n",
    "neighbourhoods.plot(ax = ax, facecolor = \"white\", edgecolor = \"black\")\n",
    "# replace this line with code to plot supermarkets #"
   ]
  },
  {
   "cell_type": "markdown",
   "id": "a190a831",
   "metadata": {},
   "source": [
    "**What problem are we facing here?** We see that the blue points (supermarkets) are in the top right corner of the plot, away from the Chicago neighbourhoods (black dot in the bottom left corner)."
   ]
  },
  {
   "cell_type": "markdown",
   "id": "44ebcbe0",
   "metadata": {},
   "source": [
    "#### Inspect the CRS of the datasets _neighbourhoods_ and _supermarkets.\n",
    "`var_name.crs`"
   ]
  },
  {
   "cell_type": "code",
   "execution_count": null,
   "id": "567cf931",
   "metadata": {
    "scrolled": true
   },
   "outputs": [],
   "source": [
    "# replace this line with code to inspect the CRS of the neighbourhoods data #"
   ]
  },
  {
   "cell_type": "code",
   "execution_count": null,
   "id": "4837b180",
   "metadata": {},
   "outputs": [],
   "source": [
    "# replace this line with code to inspect the CRS of the supermarkets data #"
   ]
  },
  {
   "cell_type": "markdown",
   "id": "42282e99",
   "metadata": {},
   "source": [
    "**Remember:** We have learned that spatial data need to have the same CRS to be mapped together accurately!"
   ]
  },
  {
   "cell_type": "markdown",
   "id": "33b1e5d4",
   "metadata": {},
   "source": [
    "#### So, reproject all datasets to EPSG:26916.\n",
    "\n",
    "_Complete the code below. (Hint: Reprojections were covered in Quest 2.)_"
   ]
  },
  {
   "cell_type": "code",
   "execution_count": null,
   "id": "662daa0f",
   "metadata": {},
   "outputs": [],
   "source": [
    "neighbourhoods = \n",
    "supermarkets = \n",
    "streets = \n",
    "buildings = \n",
    "parks = "
   ]
  },
  {
   "cell_type": "markdown",
   "id": "0f2a91e5",
   "metadata": {},
   "source": [
    "#### Now, replot the Chicago neighbourhoods and supermarkets."
   ]
  },
  {
   "cell_type": "code",
   "execution_count": null,
   "id": "751f1369",
   "metadata": {},
   "outputs": [],
   "source": [
    "fig, ax = plt.subplots(1,1, figsize = (8, 8))\n",
    "neighbourhoods.plot(ax = ax, facecolor = \"white\", edgecolor = \"black\")\n",
    "supermarkets.plot(ax = ax, facecolor = \"blue\")"
   ]
  },
  {
   "cell_type": "markdown",
   "id": "46771b0c",
   "metadata": {},
   "source": [
    "The neighbourhoods and supermarkets layers now show up correctly on our map."
   ]
  },
  {
   "cell_type": "markdown",
   "id": "fab4e5af",
   "metadata": {},
   "source": [
    "### With all our data in order, we will now map the buildings across Chicago.\n",
    "_**Note:** Given the size of the Building Footprint dataset, each plot will take approximately 2-3 minutes to render._"
   ]
  },
  {
   "cell_type": "code",
   "execution_count": null,
   "id": "7ea2123c",
   "metadata": {},
   "outputs": [],
   "source": [
    "fig, ax = plt.subplots(1,1, figsize = (8, 8))\n",
    "buildings.plot(ax = ax, edgecolor = \"black\", linewidth = 0.5, facecolor = \"white\")"
   ]
  },
  {
   "cell_type": "markdown",
   "id": "47e082ec",
   "metadata": {},
   "source": [
    "There are way too many buildings for us to visualise them in a meaningful way at this scale...\n",
    "\n",
    "#### So, let us zoom in on one section of Chicago by defining the _axis limits_ of our plot."
   ]
  },
  {
   "cell_type": "code",
   "execution_count": null,
   "id": "eac5ab3a",
   "metadata": {},
   "outputs": [],
   "source": [
    "xmin, xmax = 446500, 449500\n",
    "ymin, ymax = 4636000, 4639000"
   ]
  },
  {
   "cell_type": "markdown",
   "id": "6baf52ff",
   "metadata": {},
   "source": [
    "#### Plot the map again and set the x/y limits for the axes."
   ]
  },
  {
   "cell_type": "code",
   "execution_count": null,
   "id": "e42a90ae",
   "metadata": {},
   "outputs": [],
   "source": [
    "fig, ax = plt.subplots(1,1, figsize = (8, 8))\n",
    "buildings.plot(ax = ax, edgecolor = \"black\", linewidth = 0.5, facecolor = \"white\")\n",
    "\n",
    "ax.set_xlim([xmin, xmax])\n",
    "ax.set_ylim([ymin, ymax])"
   ]
  },
  {
   "cell_type": "markdown",
   "id": "e6c76f28",
   "metadata": {},
   "source": [
    "Now we can see each building more clearly!\n",
    "\n",
    "#### We can also colour the buildings based on various building attributes, e.g., based on the number of storeys/floors in the building.\n",
    "\n",
    "In the code below, use the following parameters `column = \"stories\", cmap =\"OrRd\", legend = True`"
   ]
  },
  {
   "cell_type": "code",
   "execution_count": null,
   "id": "f8de9a14",
   "metadata": {},
   "outputs": [],
   "source": [
    "fig, ax = plt.subplots(1,1, figsize = (8, 8))\n",
    "buildings.plot(ax = ax, edgecolor = \"black\", linewidth = 0.5, column = , cmap = , legend = ) # complete the code #\n",
    "\n",
    "ax.set_xlim([xmin, xmax])\n",
    "ax.set_ylim([ymin, ymax])"
   ]
  },
  {
   "cell_type": "markdown",
   "id": "ccfe25ea",
   "metadata": {},
   "source": [
    "As indicated by the legend on the right, the darker the orange/red colouring, the greater the number of floors in the building! From this map, we can see that most buildings in this part of Chicago have fewer than 40 storeys."
   ]
  },
  {
   "cell_type": "markdown",
   "id": "b688c58d",
   "metadata": {},
   "source": [
    "#### We can also add more context to the map by including additional features such as the main street network, pedestrian paths, and parks.\n",
    "\n",
    "# ⓘ \n",
    "> By simultaneously mapping various features of the city, we can more easily spot relationships between them, identify locations that require attention depending on the problem at hand, and perform the necessary further analyses to address these problems. For example, by mapping the street network and parks across Chicago, urban planners can identify neighbourhoods with inadequate access to urban green spaces.\n"
   ]
  },
  {
   "cell_type": "code",
   "execution_count": null,
   "id": "a89668df",
   "metadata": {},
   "outputs": [],
   "source": [
    "fig, ax = plt.subplots(1,1, figsize = (8, 8))\n",
    "parks.plot(ax = ax, facecolor = 'forestgreen', alpha = 0.85)\n",
    "buildings.plot(ax = ax, edgecolor = \"black\", linewidth=0.5, column=\"stories\", cmap=\"OrRd\", legend = False) # Hide the legend\n",
    "streets.plot(ax = ax, facecolor = \"slategray\", edgecolor = \"slategray\")\n",
    "\n",
    "ax.set_xlim([xmin, xmax])\n",
    "ax.set_ylim([ymin, ymax])"
   ]
  },
  {
   "cell_type": "markdown",
   "id": "5c652541",
   "metadata": {},
   "source": [
    "### [QUEST DELIVERABLE] Add your StackUp username to the map and download it!\n",
    "\n",
    "- Plot the same map as the one in the cell above (fill in missing portions of the code below)\n",
    "    - Do not change any plot parameters (colours, axis limits) etc.\n",
    "- Make sure that you use your __full username__ in the plot (edit the code accordingly)\n",
    "- Right-click on your map and select \"Save Image As...\"\n",
    "    - Name your map as follows: **CX_QY_1_YourUsername.png**\n",
    "- Submit your map on the StackUp platform"
   ]
  },
  {
   "cell_type": "code",
   "execution_count": null,
   "id": "19669e0d",
   "metadata": {},
   "outputs": [],
   "source": [
    "# replace this line with code to initialise fig, ax variable #\n",
    "# replace this line with code to plot parks #\n",
    "buildings.plot(ax = ax, edgecolor = \"black\", linewidth=0.5, column=\"stories\", cmap=\"OrRd\", legend = False) # Hide the legend\n",
    "# replace this line with code to plot streets #\n",
    "ax.text(447500, 4637500, 'your_stackup_username', style='italic', weight = 'bold', bbox = {'facecolor': 'dodgerblue', 'alpha': 0.75, 'pad': 10})\n",
    "\n",
    "ax.set_xlim([xmin, xmax])\n",
    "ax.set_ylim([ymin, ymax])"
   ]
  },
  {
   "cell_type": "code",
   "execution_count": null,
   "id": "ba39a4d9",
   "metadata": {},
   "outputs": [],
   "source": []
  },
  {
   "cell_type": "markdown",
   "id": "01f252bb",
   "metadata": {},
   "source": [
    "## 2. Plotting with folium\n",
    "Source: https://python-visualization.github.io/folium/\n",
    "\n",
    "> Folium builds on the data wrangling strengths of the Python ecosystem and the mapping strengths of the leaflet.js library. Manipulate your data in Python, then visualize it in on a Leaflet map via folium.\n",
    "\n",
    "To plot a basemap of your location of interest (in our case, Chicago), we need to pass latitude (lat) and longitude (long) parameters to the `folium.Map()` function."
   ]
  },
  {
   "cell_type": "markdown",
   "id": "626a8abd",
   "metadata": {},
   "source": [
    "#### Create a new gdf with the lat/lon info of Chicago neighbourhoods.\n",
    "\n",
    "Folium requires the lat/lon parameters to be specified in a geographic CRS format, so we also have to reproject the lat/lon computed in the previous step (given in projected CRS format). Here we will reproject it to __EPSG:4326__ that is a latitude/longitude based CRS used by GPS.\n",
    "\n",
    "It is also useful to remember that latitude = y-coordinate and longitude = x-coordinate."
   ]
  },
  {
   "cell_type": "code",
   "execution_count": null,
   "id": "a3442d9e",
   "metadata": {},
   "outputs": [],
   "source": [
    "nbhd_locations = neighbourhoods\n",
    "nbhd_locations = nbhd_locations.to_crs(\"EPSG:4326\") \n",
    "nbhd_locations['lat'] = (nbhd_locations.centroid.y)\n",
    "nbhd_locations['lon'] = (nbhd_locations.centroid.x) \n",
    "nbhd_locations.head()"
   ]
  },
  {
   "cell_type": "markdown",
   "id": "e7f9aca6",
   "metadata": {},
   "source": [
    "#### Create folium basemap with lat/lon information.\n",
    "__Note:__ It is recommended to create/re-initialise your basemap for every plot you make."
   ]
  },
  {
   "cell_type": "code",
   "execution_count": null,
   "id": "7b8f9e95",
   "metadata": {},
   "outputs": [],
   "source": [
    "m = folium.Map(location=[nbhd_locations.lat.mean(), nbhd_locations.lon.mean()], \n",
    "               zoom_start=12, \n",
    "               tiles='cartodbpositron', \n",
    "               control_scale=True)\n",
    "m"
   ]
  },
  {
   "cell_type": "markdown",
   "id": "2384a246",
   "metadata": {},
   "source": [
    "This gives a blank map centered on Chicago and displayed at zoom level 12. \n",
    "\n",
    "You can __zoom in/out__ (with the buttons in the top left corner or with the scroll wheel on your mouse) and __pan__ the map (click > hold > drag > drop) directly in the map window. \n",
    "\n",
    "You can also customise the choice of map tile used with the `tiles` parameter. See https://python-visualization.github.io/folium/modules.html for more information. In this quest we will use the _cartodbpositron_ tiler option that gives us a basemap in grayscale.\n",
    "\n",
    "#### Now we can add layers of data to this base map. Let's start with supermarket locations.\n",
    "Remember, we need to compute the lat/lon of each supermarket in geographic CRS format before passing it to the map. Refer to the previous example on computing neighbourhood latitude/longitude and complete the code below.\n",
    "\n",
    "Point data can be added to the map as markers using `folium.Marker()`"
   ]
  },
  {
   "cell_type": "code",
   "execution_count": null,
   "id": "3d261ca3",
   "metadata": {},
   "outputs": [],
   "source": [
    "supermarket_locations = supermarkets[[\"Chain\", \"geometry\"]]\n",
    "supermarket_locations = supermarket_locations.to_crs(# complete code here #) \n",
    "supermarket_locations['lat'] = (# complete code here #)\n",
    "supermarket_locations['lon'] = (# complete code here #)\n",
    "supermarket_locations.head()"
   ]
  },
  {
   "cell_type": "code",
   "execution_count": null,
   "id": "9c4f3c7e",
   "metadata": {},
   "outputs": [],
   "source": [
    "m = folium.Map(location=[nbhd_locations.lat.mean(), nbhd_locations.lon.mean()], \n",
    "                 zoom_start=12, tiles='cartodbpositron', control_scale=True)\n",
    "\n",
    "for i, location in supermarket_locations.iterrows():\n",
    "    folium.Marker([location[\"lat\"], location[\"lon\"]], popup=location[\"Chain\"]).add_to(m)\n",
    "\n",
    "m"
   ]
  },
  {
   "cell_type": "markdown",
   "id": "ba9e7335",
   "metadata": {},
   "source": [
    "If we click on any of the markers on the map, a pop-up with the name of supermarket chain at that particular location will appear!\n",
    "\n",
    "We can also visualise polygon layers (e.g. neighbourhood boundaries) on the map by passing them to the map as an __overlay__. Multiple polygon layers can be visualised on a single map in this way.\n",
    "\n",
    "Note that such polygon layers must be passed to the map in GeoJSON (or TopoJSON) format, i.e., `folium.GeoJson()`"
   ]
  },
  {
   "cell_type": "markdown",
   "id": "cdeb742b",
   "metadata": {},
   "source": [
    "#### Now we will add neighbourhood boundaries (polygons) to our map. \n",
    "\n",
    "First we need to convert our geodataframe to geojson using the function `gdf.to_json()`"
   ]
  },
  {
   "cell_type": "code",
   "execution_count": null,
   "id": "fad5ad78",
   "metadata": {},
   "outputs": [],
   "source": [
    "neighbourhoods_geo = nbhd_locations.to_json()"
   ]
  },
  {
   "cell_type": "markdown",
   "id": "7c8184ca",
   "metadata": {},
   "source": [
    "Then we can add this layer as an overlay to the map using `folium.Geojson()`\n",
    "\n",
    "We can also add a button to toggle this layer on/off with the code `folium.LayerControl`"
   ]
  },
  {
   "cell_type": "code",
   "execution_count": null,
   "id": "6b66ed4d",
   "metadata": {},
   "outputs": [],
   "source": [
    "m = folium.Map(location=[nbhd_locations.lat.mean(), nbhd_locations.lon.mean()], \n",
    "                 zoom_start=12, tiles='cartodbpositron', control_scale=True)\n",
    "folium.GeoJson(neighbourhoods_geo, name=\"Boundaries\").add_to(m)\n",
    "folium.LayerControl().add_to(m)\n",
    "m"
   ]
  },
  {
   "cell_type": "markdown",
   "id": "5d90f699",
   "metadata": {},
   "source": [
    "We can now see the neighbourhood boundaries drawn on the map! With the toggle button (top right corner), we can also choose whether or not we want this layer to be displayed. Try it out!"
   ]
  },
  {
   "cell_type": "markdown",
   "id": "08f01045",
   "metadata": {},
   "source": [
    "#### We can also easily create choropleth maps using folium.\n",
    "Choropleth maps provide an easy way to visualize how a variable varies across a geographic area or show the level of variability within a region. They are thematic maps with areas shaded or patterned in proportion to the measurement of the variable of interest. \n",
    "\n",
    "Choropleth maps can be added to your folium basemap using the `folium.Choropleth()` function, to which a geojson object (**geo_data**) containing the polygon boundaries AND a dataframe/table (**data**) containing the variable(s) of interest must be passed. A key (**key_on**) that is a common attribute column shared between the **geo_data** and **data* objects will link the two datasets.\n",
    "\n",
    "Now, we will map the number of violent crime cases across Chicago for the year 2014. We will also add a tooltip using `folium.GeoJsonTooltip()`, that will display the neighbourhood name (_community_) and the number of violent crimes (*Violent_C*) when you hover over any neighbourhood.\n",
    "\n",
    "# ⓘ \n",
    "> Choropleth maps of socioeconomic indicators, such as violent crime rates, are useful for policymakers to visualise how such indicators vary across the city, and easily identify area(s) in need of attention. Also, it may reveal other patterns such as spatial clustering, where for example, high-crime neighbourhoods are geographically clustered with other high-crime neighbourhoods. "
   ]
  },
  {
   "cell_type": "code",
   "execution_count": null,
   "id": "8773001d",
   "metadata": {},
   "outputs": [],
   "source": [
    "m = folium.Map(location=[nbhd_locations.lat.mean(), nbhd_locations.lon.mean()], \n",
    "                 zoom_start=12, tiles='cartodbpositron', control_scale=True)\n",
    "\n",
    "cp = folium.Choropleth( # create choropleth map object\n",
    "    name = \"Violent crimes (2014)\", # specify name for your overlay layer\n",
    "    geo_data = neighbourhoods_geo, # geojson object containing your polygon boundaries\n",
    "    data = neighbourhoods, # dataframe containing your statistical variables\n",
    "    columns = [\"community\", \"Violent_C\"], # relevant columns from your data table\n",
    "    key_on = \"feature.properties.community\", # key that is shared between both geo_data and data\n",
    "    fill_color = \"OrRd\", # polygon colour palette\n",
    "    fill_opacity = 0.7, # polygon colour opacity\n",
    "    line_opacity = 0.2, # polygon line opacity\n",
    "    legend_name = \"Violent crimes\").add_to(m) # name of legend\n",
    "\n",
    "folium.GeoJsonTooltip(['community', 'Violent_C']).add_to(cp.geojson) # Note that the tooltip must be added to the choropleth map geojson object and NOT the basemap!\n",
    "\n",
    "folium.LayerControl().add_to(m) # add toggle button for this layer\n",
    "\n",
    "m"
   ]
  },
  {
   "cell_type": "markdown",
   "id": "545d51b0",
   "metadata": {},
   "source": [
    "### Now it's your turn! Create a choropleth map showing how the per capita income varies across Chicago.\n",
    "\n",
    "__Consider the following:__\n",
    "\n",
    "- First create the basemap object, m, using `folium.Map()`\n",
    "    - Start with a zoom level of __10__ for the base map\n",
    "- Follow the example above on violent crimes and compete the code to create __cp2__, the `folium.Choropleth` object\n",
    "- Use `geodata_data = neighbourhoods_geo` and `data = neighbourhoods`\n",
    "    - The __'PerCInc14'__ column in the _neighbourhoods_ dataset provides data on the per capita income that we want to plot\n",
    "- Use the __'PiYG'__ colour palette for this map\n",
    "- Include a tooltip displaying the community name (_community_) and per capita income (_PerCInc14_) with `folium.GeoJsonToolTip`\n",
    "    - Remember to add the tooltip to the __choropleth map geojson object, cp2__ and not the basemap!\n",
    "- Include a toggle button for the layer with `folium.LayerControl()` and add it to the basemap\n",
    "\n",
    "*Refer to the example above on violent crimes if you need help!*"
   ]
  },
  {
   "cell_type": "code",
   "execution_count": null,
   "id": "15820411",
   "metadata": {},
   "outputs": [],
   "source": [
    "m = # replace this line with code to create the basemap object #\n",
    "\n",
    "cp2 = folium.Choropleth(\n",
    "    name = \"Per capita income (2014)\",\n",
    "    geo_data = # complete the code here #\n",
    "    data = # complete the code here #\n",
    "    columns = [\"community\", \"PerCInc14\"],\n",
    "    key_on = \"feature.properties.community\",\n",
    "    fill_color = # complete the code here #\n",
    "    fill_opacity = 0.7,\n",
    "    line_opacity = 0.2,\n",
    "    legend_name = \"USD/year\").add_to(m)\n",
    "\n",
    "# replace this line with code to add a tooltip showing information on community name and the per capita income #\n",
    "\n",
    "# replace this line with code to add a toggle button for the choropleth map layer #\n",
    "\n",
    "m"
   ]
  },
  {
   "cell_type": "markdown",
   "id": "c70b5e57",
   "metadata": {},
   "source": [
    "### [QUEST DELIVERABLE] Take a screenshot of your choropleth map! \n",
    "\n",
    "Follow these instructions carefully:\n",
    "- Hover over the neighbourhood with the **highest per capita income (the darkest green polygon)and note down its _PerCInc14_ value** as you will need it for your deliverable.\n",
    "- Take a screenshot of the entire cell containing the map\n",
    "- Name your screenshot as follows: **CX_QY_*PerCInc14*_YourUsername.png**\n",
    "    - In the file name, **replace PerCInc14** with the value you have noted down in the first step\n",
    "    - Your submission will be **REJECTED** if it does not follow the exact naming format shown above\n",
    "- Submit your screenshot on the StackUp platform"
   ]
  },
  {
   "cell_type": "markdown",
   "id": "c48ba6ca",
   "metadata": {},
   "source": [
    "### Well done!\n",
    "\n",
    "We’ve come to the end of this quest where you:\n",
    "\n",
    "   1. Created maps with multiple data layers using _matplotlib_\n",
    "   2. Created interactive maps with _folium_\n",
    "\n",
    "Now go back to the StackUp website to prepare your deliverables for submission!"
   ]
  },
  {
   "cell_type": "code",
   "execution_count": null,
   "id": "103c9326",
   "metadata": {},
   "outputs": [],
   "source": []
  }
 ],
 "metadata": {
  "kernelspec": {
   "display_name": "Python 3 (ipykernel)",
   "language": "python",
   "name": "python3"
  },
  "language_info": {
   "codemirror_mode": {
    "name": "ipython",
    "version": 3
   },
   "file_extension": ".py",
   "mimetype": "text/x-python",
   "name": "python",
   "nbconvert_exporter": "python",
   "pygments_lexer": "ipython3",
   "version": "3.10.8"
  }
 },
 "nbformat": 4,
 "nbformat_minor": 5
}
