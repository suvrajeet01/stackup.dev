{
 "cells": [
  {
   "cell_type": "code",
   "execution_count": 2,
   "id": "af638a74",
   "metadata": {},
   "outputs": [],
   "source": [
    "# Import relevant libraries \n",
    "\n",
    "import pandas as pd\n",
    "import geopandas as gpd\n",
    "import pysal as ps\n",
    "import libpysal\n",
    "import pyproj\n",
    "import geopy\n",
    "import cartopy as cp\n",
    "import geojson\n",
    "import osmnx as ox\n",
    "import matplotlib.pyplot as plt\n",
    "import sklearn\n",
    "import seaborn as sns\n",
    "import bokeh\n",
    "import folium"
   ]
  },
  {
   "cell_type": "markdown",
   "id": "6c69a479",
   "metadata": {},
   "source": [
    "# Quest 2: Exploring and manipulating geospatial data with geopandas \n",
    "\n",
    "We will cover:\n",
    "   1. I/O operations \n",
    "   2. Getting data from OpenStreetMap (with _OSMnx_)\n",
    "   3. Reprojecting geospatial data\n",
    "   4. Basic geoprocessing tools from geopandas (Clip, Spatial join)\n",
    "    \n",
    "Note:\n",
    "- All data is taken from the Geoda Center: https://geodacenter.github.io/. Refer to the main quest page on the StackUp platform for more details.\n",
    "- Parts of the code marked with the _[quiz]_ tag provide output necessary to answer quiz questions\n"
   ]
  },
  {
   "cell_type": "markdown",
   "id": "b9475c62",
   "metadata": {},
   "source": [
    "### 1. Reading/Writing spatial data from/to file\n",
    "Source: https://geopandas.org/en/stable/docs/user_guide/io.html\n",
    "\n",
    "\n",
    "__Reading__: geopandas can read almost any vector-based spatial data format (including ESRI shapefile, GeoJSON files and more) and return a GeoDataFrame (gdf) object using the command `geopandas.read_file()`\n",
    "\n",
    "\n",
    "__Writing__: GeoDataFrames can be exported to many different standard formats using `geopandas.GeoDataFrame.to_file()`"
   ]
  },
  {
   "cell_type": "markdown",
   "id": "57e2c662",
   "metadata": {},
   "source": [
    "#### Read dataset containing health and socioeconomics statistics in Chicago (ComArea_ACS14_f.shp) from your working directory:\n",
    "`your_var_name = gpd.read_file(\"your filepath\")`"
   ]
  },
  {
   "cell_type": "code",
   "execution_count": null,
   "id": "66bd8324",
   "metadata": {},
   "outputs": [],
   "source": [
    "# your code here"
   ]
  },
  {
   "cell_type": "markdown",
   "id": "44ebcbe0",
   "metadata": {},
   "source": [
    "#### Inspect your gdf:\n",
    "`your_var_name.head()`\n",
    "\n",
    "\n",
    "Scroll through the columns in your gdf. The last column contains the geometry attribute."
   ]
  },
  {
   "cell_type": "code",
   "execution_count": null,
   "id": "294687e6",
   "metadata": {},
   "outputs": [],
   "source": [
    "# your code here"
   ]
  },
  {
   "cell_type": "markdown",
   "id": "0f2a91e5",
   "metadata": {},
   "source": [
    "#### Inspect the 'geometry' attribute column:\n",
    "`your_var_name['geometry'].head()`\n",
    "\n",
    "\n",
    "*[quiz]* Take note of the data type (dtype)."
   ]
  },
  {
   "cell_type": "code",
   "execution_count": null,
   "id": "a53b787d",
   "metadata": {},
   "outputs": [],
   "source": [
    "# your code here"
   ]
  },
  {
   "cell_type": "markdown",
   "id": "fab4e5af",
   "metadata": {},
   "source": [
    "#### Display the geometry of the fourth feature (i.e. index = 3) in the gdf:\n",
    "`your_var_name['geometry'][3]`\n",
    "\n",
    "\n",
    "*[quiz]* What shape best describes the shape of this feature?"
   ]
  },
  {
   "cell_type": "code",
   "execution_count": null,
   "id": "87378227",
   "metadata": {},
   "outputs": [],
   "source": [
    "# your code here"
   ]
  },
  {
   "cell_type": "markdown",
   "id": "c5c5172a",
   "metadata": {},
   "source": [
    "#### Display the other attributes of the same feature (i.e. index = 3):\n",
    "`your_var_name.iloc[3]`\n",
    "\n",
    "\n",
    "Take note of the _community_ name of this feature. You will need this for the next step."
   ]
  },
  {
   "cell_type": "code",
   "execution_count": null,
   "id": "9982d37a",
   "metadata": {},
   "outputs": [],
   "source": [
    "# your code here"
   ]
  },
  {
   "cell_type": "markdown",
   "id": "f2d66dbf",
   "metadata": {},
   "source": [
    "### 2. Fetching data from OpenStreetMap\n",
    "For more details, refer to: https://osmnx.readthedocs.io/en/stable/internals.html#osmnx-geocoder-module\n",
    "\n",
    "We can use the osmnx package to read data from OpenStreetMap to GeoDataFrames. Now, we will fetch the city boundary of Chicago using `osmnx.geocode_to_gdf(query)`\n",
    "\n",
    "You can save your query (i.e. name of the country/city/region that you are interested in) as a separate variable. For example, if we want to fetch the city boundary of Chicago:"
   ]
  },
  {
   "cell_type": "code",
   "execution_count": null,
   "id": "9da01b08",
   "metadata": {},
   "outputs": [],
   "source": [
    "city_name = 'Chicago, Illinois'\n",
    "city = ox.geocoder.geocode_to_gdf(city_name, which_result=1)"
   ]
  },
  {
   "cell_type": "markdown",
   "id": "a1c2692b",
   "metadata": {},
   "source": [
    "#### Now, do the same to fetch the boundary of the community you identified above:"
   ]
  },
  {
   "cell_type": "code",
   "execution_count": 23,
   "id": "20f36b93",
   "metadata": {},
   "outputs": [],
   "source": [
    "community_name = 'XXX, Chicago' # replace 'XXX' with the actual community name from above\n",
    "community = # your code here"
   ]
  },
  {
   "cell_type": "markdown",
   "id": "81a1cc52",
   "metadata": {},
   "source": [
    "#### Inspect your new community variable:"
   ]
  },
  {
   "cell_type": "markdown",
   "id": "7ca9e805",
   "metadata": {},
   "source": [
    "# ⓘ \n",
    "> This community area is part of the larger _Bronzeville_ area, an important center for African-American culture and businesses in Chicago. Bronzeville is also one of 10 priority communities selected as a part of the initial phase of a community development initiative by its Mayor."
   ]
  },
  {
   "cell_type": "code",
   "execution_count": null,
   "id": "ee904f9a",
   "metadata": {},
   "outputs": [],
   "source": [
    "community"
   ]
  },
  {
   "cell_type": "markdown",
   "id": "788f7bff",
   "metadata": {},
   "source": [
    "#### and display its geometry:\n",
    "\n",
    "The shape you see should be more or less the same as the one you saw earlier (from the gdf)!"
   ]
  },
  {
   "cell_type": "code",
   "execution_count": null,
   "id": "d76c795f",
   "metadata": {},
   "outputs": [],
   "source": [
    "community['geometry'][0]"
   ]
  },
  {
   "cell_type": "markdown",
   "id": "f038fe43",
   "metadata": {},
   "source": [
    "#### Apart from boundaries, you can also get other map features from OSM such as roads, building footprints, waterways etc.\n",
    "\n",
    "See https://wiki.openstreetmap.org/wiki/Map_features for more information.\n",
    "\n",
    "#### Now, let us try to fetch the building footprint of all residential buildings within Chicago city boundary:\n",
    "\n",
    "We will include `'apartments', 'terrace', 'house', 'detached', 'semidetached_house'` as the building tags."
   ]
  },
  {
   "cell_type": "code",
   "execution_count": 88,
   "id": "7a1957db",
   "metadata": {},
   "outputs": [],
   "source": [
    "residential_chicago = ox.geometries.geometries_from_polygon(city['geometry'][0], tags = {'building': ['apartments', 'terrace', 'house', 'detached', 'semidetached_house']})"
   ]
  },
  {
   "cell_type": "markdown",
   "id": "be1c5160",
   "metadata": {},
   "source": [
    "#### Inspect the 'residential_chicago' gdf:"
   ]
  },
  {
   "cell_type": "code",
   "execution_count": null,
   "id": "46bb9764",
   "metadata": {},
   "outputs": [],
   "source": [
    "residential_chicago.head()"
   ]
  },
  {
   "cell_type": "markdown",
   "id": "e7c968a3",
   "metadata": {},
   "source": [
    "### 3. Projections and coordinate reference systems (CRS)\n",
    "For more details, refer to: https://geopandas.org/en/stable/docs/user_guide/projections.html"
   ]
  },
  {
   "cell_type": "markdown",
   "id": "569f0087",
   "metadata": {},
   "source": [
    "When reading geospatial files with `geopandas.read_file()`, things should mostly work out of the box with a proper CRS defined. You can use `GeoDataFrame.crs` to display CRS information:"
   ]
  },
  {
   "cell_type": "code",
   "execution_count": null,
   "id": "a53df334",
   "metadata": {},
   "outputs": [],
   "source": [
    "your_var_name.crs # replace your_var_name with the name of your chicago statistics gdf accordingly"
   ]
  },
  {
   "cell_type": "markdown",
   "id": "8c840e1f",
   "metadata": {},
   "source": [
    "*Note: Sometimes, you may need to manually set a CRS or perform a reprojection if the CRS information is not as expected.*\n",
    "\n",
    "__Reprojections__: Re-projecting is the process of changing the representation of locations from one coordinate system to another. All projections of locations on the Earth into a two-dimensional plane are distortions, the projection that is best for your application may be different from the projection associated with the data you import. In these cases, data can be re-projected using `GeoDataFrame.to_crs()`. Specify the name of the CRS by their _EPSG_ code. If you are working with multiple geospatial data files, all must share the same CRS in order for the data to be mapped accurately."
   ]
  },
  {
   "cell_type": "markdown",
   "id": "653507d8",
   "metadata": {},
   "source": [
    "#### Geographic CRS vs. projected CRS\n",
    "It is generally preferred to work with projected CRS than geographic CRS. Also, computing geometric properties (e.g., area) in a geographic CRS will likely to give inaccurate results. We usually re-project geometries to a projected CRS before performing such operations."
   ]
  },
  {
   "cell_type": "markdown",
   "id": "09796aa0",
   "metadata": {},
   "source": [
    "#### Reproject your gdf to one of the most commonly used metric projected CRS (EPSG:26916) for Chicago:\n",
    "\n",
    "`your_var_name = your_var_name.to_crs(\"EPSG:26916\")`\n",
    "\n",
    "`your_var_name.crs`"
   ]
  },
  {
   "cell_type": "code",
   "execution_count": null,
   "id": "33551475",
   "metadata": {},
   "outputs": [],
   "source": [
    "# your code here"
   ]
  },
  {
   "cell_type": "markdown",
   "id": "90601166",
   "metadata": {},
   "source": [
    "#### Now do the same for the _community_ variable and reproject it to the same _EPSG:26916_ CRS:"
   ]
  },
  {
   "cell_type": "code",
   "execution_count": null,
   "id": "3bf42815",
   "metadata": {},
   "outputs": [],
   "source": [
    "community = community.to_crs(\"XXXX\") # replace XXXX with the appropropriate CRS\n",
    "community.crs"
   ]
  },
  {
   "cell_type": "markdown",
   "id": "9ffe2923",
   "metadata": {},
   "source": [
    "#### *[quiz]* Let's now see how big the GB neighbourhood is:\n",
    "\n",
    "_Refer to the [geopandas documentation](https://geopandas.org/en/stable/docs/reference/api/geopandas.GeoSeries.area.html#) and complete the code below to compute the area of the GB neighbourhood._"
   ]
  },
  {
   "cell_type": "code",
   "execution_count": null,
   "id": "32fb2774",
   "metadata": {},
   "outputs": [],
   "source": [
    "# your code here to compute the area of GB"
   ]
  },
  {
   "cell_type": "markdown",
   "id": "1af821d9",
   "metadata": {},
   "source": [
    "#### We can also compute the perimeter of the neighbourhood with:"
   ]
  },
  {
   "cell_type": "code",
   "execution_count": null,
   "id": "76cf5680",
   "metadata": {},
   "outputs": [],
   "source": [
    "community.length"
   ]
  },
  {
   "cell_type": "markdown",
   "id": "f4d77464",
   "metadata": {},
   "source": [
    "__Note:__ The units of follow those defined by the CRS used. In this case (EPSG:26916), the area is expressed in _square metres_, and perimeter in _metres_."
   ]
  },
  {
   "cell_type": "markdown",
   "id": "4fae3636",
   "metadata": {},
   "source": [
    "### 4. Basic tools from geopandas\n",
    "For more details, refer to: https://geopandas.org/en/stable/docs/reference/tools.html\n",
    "\n",
    "In this section, we will cover two main tools:\n",
    "- Clip\n",
    "- Spatial join"
   ]
  },
  {
   "cell_type": "markdown",
   "id": "7d1eb392",
   "metadata": {},
   "source": [
    "#### Clip (Source: https://gisgeography.com/clip-tool-gis/)\n",
    "\n",
    "The Clip Tool cuts out an input layer to a defined feature boundary. The clipping layer must be a polygon. But the input layer can be points, lines, or polygons.\n",
    "\n",
    "In the image below, the first figure represents the input layer and the second figure represents the clipping layer.\n",
    "\n",
    "![](https://gisgeography.com/wp-content/uploads/2020/10/Clip-Tool-1536x487.png)\n",
    "\n",
    "We can use `input_layer.clip(clipping_layer)` to perform the Clip. We will now look at supermarket locations in Chicago and to perform a Clip. You can also refer to this other example in the geopandas documentation: https://geopandas.org/en/stable/gallery/plot_clip.html"
   ]
  },
  {
   "cell_type": "markdown",
   "id": "84c530eb",
   "metadata": {},
   "source": [
    "#### Load and inspect Chicago supermarkets data:"
   ]
  },
  {
   "cell_type": "code",
   "execution_count": null,
   "id": "0c5b7c76",
   "metadata": {},
   "outputs": [],
   "source": [
    "supermarkets = gpd.read_file(\"your file path\") # replace file path to 'chicago_sup.shp' in your working directory\n",
    "supermarkets.head()"
   ]
  },
  {
   "cell_type": "markdown",
   "id": "3303be69",
   "metadata": {},
   "source": [
    "*[Quiz]* What type of geometry do we see in this supermarket dataset?"
   ]
  },
  {
   "cell_type": "markdown",
   "id": "2fa5a336",
   "metadata": {},
   "source": [
    "#### Re-project supermarkets to EPSG:26916:"
   ]
  },
  {
   "cell_type": "code",
   "execution_count": 113,
   "id": "f3e0fff2",
   "metadata": {},
   "outputs": [],
   "source": [
    "supermarkets = supermarkets.to_crs(\"EPSG:26916\")"
   ]
  },
  {
   "cell_type": "markdown",
   "id": "bee8fc63",
   "metadata": {},
   "source": [
    "#### Plot Chicago neighbourhoods (from Chicago statistics gdf) and supermarkets:\n",
    "\n",
    "_Please refer to the [geopandas documentation](https://geopandas.org/en/stable/docs/reference/api/geopandas.GeoDataFrame.plot.html) to complete the code below._"
   ]
  },
  {
   "cell_type": "code",
   "execution_count": null,
   "id": "0a476bd8",
   "metadata": {},
   "outputs": [],
   "source": [
    "fig, (ax1) = plt.subplots(figsize=(5, 5))\n",
    "your_var_name.plot(ax=ax1) # replace your_var_name (Chicago statistics gdf from Part 1) accordingly\n",
    "\n",
    "# Now, write your code here to add supermarkets to the plot.\n",
    "# You can use the 'color' parameter to make the supermarkets stand out."
   ]
  },
  {
   "cell_type": "markdown",
   "id": "a6ec6733",
   "metadata": {},
   "source": [
    "#### Get boundary of Lincoln Park, one of Chicago's largest neighbourhoods, from OpenStreetMap:\n",
    "\n",
    "# ⓘ \n",
    "> Lincoln Park is one of the most attractive (and expensive!) neighbourhoods in Chicago thanks to its proximity to the city center, ample green space, and vibrant atmosphere. "
   ]
  },
  {
   "cell_type": "code",
   "execution_count": null,
   "id": "fbe800f5",
   "metadata": {},
   "outputs": [],
   "source": [
    "lp_chicago = ox.geocoder.geocode_to_gdf('Lincoln Park, Chicago', which_result=2)\n",
    "lp_chicago "
   ]
  },
  {
   "cell_type": "markdown",
   "id": "9f587468",
   "metadata": {},
   "source": [
    "Check that _'class' = boundary_ and _'type' = administrative_. Otherwise, play around with the `which_result` parameter."
   ]
  },
  {
   "cell_type": "markdown",
   "id": "1b305182",
   "metadata": {},
   "source": [
    "#### Re-project lp_chicago to EPSG:26916:"
   ]
  },
  {
   "cell_type": "code",
   "execution_count": 127,
   "id": "39eb80c7",
   "metadata": {},
   "outputs": [],
   "source": [
    "lp_chicago = lp_chicago.to_crs(\"EPSG:26916\")"
   ]
  },
  {
   "cell_type": "markdown",
   "id": "011f71ce",
   "metadata": {},
   "source": [
    "#### Visualise the Lincoln Park neighbourhood on the map:\n",
    "\n",
    "_Refer to the geopandas documentation on [mapping and plotting tools](https://geopandas.org/en/stable/docs/user_guide/mapping.html) and [boundaries](https://geopandas.org/en/stable/docs/reference/api/geopandas.GeoSeries.boundary.html) to plot a **red boundary** of the Lincoln Park neighbourhood._ "
   ]
  },
  {
   "cell_type": "code",
   "execution_count": null,
   "id": "f92ef962",
   "metadata": {},
   "outputs": [],
   "source": [
    "fig, (ax1) = plt.subplots(figsize=(5, 5))\n",
    "your_var_name.plot(ax=ax1) # replace your_var_name (Chicago statistics gdf from Part 1) accordingly\n",
    "supermarkets.plot(# complete the code here to add supermarkets (color = 'black') to the map)\n",
    "    \n",
    "# Now, write your code here to add a red boundary of the Lincoln Park neighbourhood to the plot.  "
   ]
  },
  {
   "cell_type": "markdown",
   "id": "622bca7d",
   "metadata": {},
   "source": [
    "#### We will now clip the supermarket dataset using the Lincoln Park neighbourhood boundary:"
   ]
  },
  {
   "cell_type": "code",
   "execution_count": null,
   "id": "7a540dac",
   "metadata": {},
   "outputs": [],
   "source": [
    "supermarkets_lp = supermarkets.clip(lp_chicago) # ignore warning"
   ]
  },
  {
   "cell_type": "markdown",
   "id": "66560838",
   "metadata": {},
   "source": [
    "#### *[Screenshot]* Plot the results of the Clip:\n",
    "\n",
    "_Complete the lines of code below accordingly._"
   ]
  },
  {
   "cell_type": "code",
   "execution_count": null,
   "id": "58551cea",
   "metadata": {},
   "outputs": [],
   "source": [
    "fig, (ax1) = plt.subplots(figsize=(5, 5))\n",
    "your_var_name.plot(ax=ax1) # replace your_var_name (Chicago statistics gdf from Part 1) accordingly\n",
    "# Add your code here to plot (in black) the supermarkets IN Lincoln Park, i.e., the clipped supermarket dataset\n",
    "# Add your code here to plot (in red) the boundary of Lincoln Park"
   ]
  },
  {
   "cell_type": "markdown",
   "id": "c589c9d1",
   "metadata": {},
   "source": [
    "*[Quiz]* How many supermarkets are located in Lincoln Park, Chicago?"
   ]
  },
  {
   "cell_type": "markdown",
   "id": "0a8d1b3e",
   "metadata": {},
   "source": [
    "# ⓘ \n",
    "> Access to essential services and amenities is an important issue that urban planners have to consider in their work. By mapping their locations (e.g. supermarkets as we have just done) in relation to other key features of the cities like the road network and building footprint, planners can identify areas in which access to such services are lacking. "
   ]
  },
  {
   "cell_type": "markdown",
   "id": "3ccf9345",
   "metadata": {},
   "source": [
    "#### Spatial Join (Source: https://gisgeography.com/spatial-join/)\n",
    "\n",
    "The spatial join tool inserts the columns from one feature table to another based on location or proximity. Consider the _supermarkets_ dataset that we have just seen. By running a spatial join, you can transfer the information about the supermarkets to the Chicago gdf that we have been working with. As long as the supermarkets dataset contains location information, any field can be joined to the neighbourhoods listed in the Chicago health and socioeconomic statistics dataset.\n",
    "\n",
    "In geopandas, we can perform a spatial join with \n",
    "\n",
    "`geopandas.sjoin(left_df, right_df, how='inner', predicate='intersects')`\n",
    "\n",
    "There are different __predicates based on the nature of the spatial relationships__ (see https://gisgeography.com/spatial-join/ for graphical representations of each) that can be used to define the join:\n",
    "- __Intersect__: Two features touch at any location. (default)\n",
    "- __Contains/Completely within__: The join feature is completely contained within the target feature. \n",
    "- __Identical__: Both features match identically. When two features are exactly without having any difference or variant of any kind, the features are identical.\n",
    "- __Closest/Nearest__: The join feature is nearest/closest to the target feature. When there are several possible features to join, this spatial join takes only the closest feature.\n",
    "- __Within a distance__: Two features are within a set distance. This spatial relationship is defined by how far two or more entities can be found on a map.\n",
    "\n",
    "There are also different __types of joins (how)__ (see also https://geopandas.org/en/stable/docs/reference/api/geopandas.sjoin.html#geopandas.sjoin) to determine how the columns from one table should be joined to the other:\n",
    "- __inner__: use intersection of keys from both dfs; retain only left_df geometry column\n",
    "- __left__: use keys from left_df; retain only left_df geometry column\n",
    "- __right__: use keys from right_df; retain only right_df geometry column\n",
    "\n",
    "\n",
    "We will now add some supermarket information to the various neighbourhoods in Chicago. You can refer to another example here: https://geopandas.org/en/stable/gallery/spatial_joins.html."
   ]
  },
  {
   "cell_type": "markdown",
   "id": "31912d39",
   "metadata": {},
   "source": [
    "#### Re-inspect the Chicago statistics gdf (your_var_name):"
   ]
  },
  {
   "cell_type": "code",
   "execution_count": null,
   "id": "535a01c2",
   "metadata": {},
   "outputs": [],
   "source": [
    "your_var_name.head() # replace your_var_name accordingly"
   ]
  },
  {
   "cell_type": "markdown",
   "id": "206d750b",
   "metadata": {},
   "source": [
    "We can see that there are __87__ columns in the Chicago statistics dataset."
   ]
  },
  {
   "cell_type": "markdown",
   "id": "73044902",
   "metadata": {},
   "source": [
    "#### Re-inspect the supermarket gdf:"
   ]
  },
  {
   "cell_type": "code",
   "execution_count": null,
   "id": "af0d2c3d",
   "metadata": {},
   "outputs": [],
   "source": [
    "supermarkets.head()"
   ]
  },
  {
   "cell_type": "markdown",
   "id": "734a796d",
   "metadata": {},
   "source": [
    "We can see that there are __8__ columns in the supermarkets dataset."
   ]
  },
  {
   "cell_type": "markdown",
   "id": "6283a508",
   "metadata": {},
   "source": [
    "#### Now, we will perform the spatial join with:\n",
    "\n",
    "`left_df = your_var_name`\n",
    "\n",
    "`right_df = supermarkets`\n",
    "\n",
    "According to the information provided above on spatial relationships and join types, complete the code below `how` and `predicate` parameters to perform a spatial join where\n",
    "\n",
    "    - the keys of the left_df are used and only the geometry of the left_df is retained\n",
    "    - features are joined as long as they touch at any location"
   ]
  },
  {
   "cell_type": "code",
   "execution_count": null,
   "id": "98b7d976",
   "metadata": {},
   "outputs": [],
   "source": [
    "joined_df = gpd.sjoin(your_var_name, supermarkets, how=, predicate=) # replace your_var_name accordingly and complete the code\n",
    "joined_df.head()"
   ]
  },
  {
   "cell_type": "markdown",
   "id": "172da20e",
   "metadata": {},
   "source": [
    "Scroll across all the columns to the end and we can see that 7 columns from the _supermarkets_ dataset (without geometry) have been joined to the Chicago health and socioeconomic statistics dataset along with an index column ('index_right'). Note that the rows with __NaN__ indicate neighbourhoods that did not have any supermarkets (0 points intersecting the polygon).\n",
    "\n",
    "Also note that results will include multiple output records for a single input record with multiple intersecting features. This means that a neighbourhood (e.g. Lincoln Park) with three supermarkets as we have seen earlier will appear three times in the join output:"
   ]
  },
  {
   "cell_type": "code",
   "execution_count": null,
   "id": "d526465b",
   "metadata": {},
   "outputs": [],
   "source": [
    "joined_df.loc[joined_df['community'] == \"LINCOLN PARK\"]"
   ]
  },
  {
   "cell_type": "markdown",
   "id": "23fdaa5d",
   "metadata": {},
   "source": [
    "#### Now, we wanted to find the percentage of Chicago neighbourhoods with at least one supermarket, we can do the following:"
   ]
  },
  {
   "cell_type": "markdown",
   "id": "c3954930",
   "metadata": {},
   "source": [
    "1: Establish a df giving us the neighbourhoods in which each supermarket (from the _supermarkets_ dataset) is located."
   ]
  },
  {
   "cell_type": "code",
   "execution_count": 179,
   "id": "68340e26",
   "metadata": {},
   "outputs": [],
   "source": [
    "nbhds_w_supermarkets = joined_df[pd.notna(joined_df.Chain)]"
   ]
  },
  {
   "cell_type": "markdown",
   "id": "e1bee9da",
   "metadata": {},
   "source": [
    "2: Count the number of unique neighbourhoods ('community' column) with at least one supermarket."
   ]
  },
  {
   "cell_type": "code",
   "execution_count": 180,
   "id": "1712d09d",
   "metadata": {},
   "outputs": [],
   "source": [
    "nbhds_w_supermarkets = nbhds_w_supermarkets['community'].nunique()"
   ]
  },
  {
   "cell_type": "markdown",
   "id": "0ea1379f",
   "metadata": {},
   "source": [
    "3: *[quiz]* Compute percentage:"
   ]
  },
  {
   "cell_type": "code",
   "execution_count": null,
   "id": "9f9921e4",
   "metadata": {},
   "outputs": [],
   "source": [
    "round(nbhds_w_supermarkets/len(your_var_name)*100,0) # replace your_var_name accordingly (Chicago statistics from Part 1)"
   ]
  },
  {
   "cell_type": "markdown",
   "id": "001ea95c",
   "metadata": {},
   "source": [
    "### Well done!\n",
    "\n",
    "We’ve come to the end of this quest where you:\n",
    "\n",
    "   1. Performed I/O operations \n",
    "   2. Retrieved data from OpenStreetMap\n",
    "   3. Reprojected geospatial data\n",
    "   4. Used basic geoprocessing tools from geopandas\n",
    "   5. Created basic plots of spatial data\n",
    "\n",
    "Now go back to the StackUp website to prepare your deliverables for submission!"
   ]
  },
  {
   "cell_type": "code",
   "execution_count": null,
   "id": "9dee6719",
   "metadata": {},
   "outputs": [],
   "source": []
  }
 ],
 "metadata": {
  "kernelspec": {
   "display_name": "Python 3 (ipykernel)",
   "language": "python",
   "name": "python3"
  },
  "language_info": {
   "codemirror_mode": {
    "name": "ipython",
    "version": 3
   },
   "file_extension": ".py",
   "mimetype": "text/x-python",
   "name": "python",
   "nbconvert_exporter": "python",
   "pygments_lexer": "ipython3",
   "version": "3.10.8"
  }
 },
 "nbformat": 4,
 "nbformat_minor": 5
}
